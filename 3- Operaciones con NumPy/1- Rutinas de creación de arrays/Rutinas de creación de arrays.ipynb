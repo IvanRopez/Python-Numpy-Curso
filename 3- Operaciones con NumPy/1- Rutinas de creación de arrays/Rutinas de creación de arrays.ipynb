{
 "cells": [
  {
   "cell_type": "code",
   "execution_count": 2,
   "id": "c2320f50-17e0-49c2-b7ef-b4bb876c33d5",
   "metadata": {},
   "outputs": [],
   "source": [
    "import numpy as np"
   ]
  },
  {
   "cell_type": "code",
   "execution_count": 2,
   "id": "d3dbdc13-e0ce-474f-acb5-61cde99400df",
   "metadata": {},
   "outputs": [
    {
     "data": {
      "text/plain": [
       "array([[1., 0., 0., 0.],\n",
       "       [0., 1., 0., 0.],\n",
       "       [0., 0., 1., 0.],\n",
       "       [0., 0., 0., 1.]])"
      ]
     },
     "execution_count": 2,
     "metadata": {},
     "output_type": "execute_result"
    }
   ],
   "source": [
    "np.eye(4)"
   ]
  },
  {
   "cell_type": "code",
   "execution_count": 3,
   "id": "4b5998f0-ebd0-443f-bb75-ad0e2192dd8f",
   "metadata": {},
   "outputs": [
    {
     "data": {
      "text/plain": [
       "array([[0., 1., 0., 0.],\n",
       "       [0., 0., 1., 0.],\n",
       "       [0., 0., 0., 1.],\n",
       "       [0., 0., 0., 0.]])"
      ]
     },
     "execution_count": 3,
     "metadata": {},
     "output_type": "execute_result"
    }
   ],
   "source": [
    "np.eye(4, k=1)"
   ]
  },
  {
   "cell_type": "code",
   "execution_count": 4,
   "id": "9f71a2c6-375d-48bd-a962-882bc60c6b4c",
   "metadata": {},
   "outputs": [
    {
     "data": {
      "text/plain": [
       "array([[0., 0., 0., 0.],\n",
       "       [1., 0., 0., 0.],\n",
       "       [0., 1., 0., 0.],\n",
       "       [0., 0., 1., 0.]])"
      ]
     },
     "execution_count": 4,
     "metadata": {},
     "output_type": "execute_result"
    }
   ],
   "source": [
    "np.eye(4, k= -1)"
   ]
  },
  {
   "cell_type": "code",
   "execution_count": 5,
   "id": "41846190-6928-4bb5-a8a1-be3b9e747270",
   "metadata": {},
   "outputs": [
    {
     "data": {
      "text/plain": [
       "array([[1, 0, 0, 0],\n",
       "       [0, 1, 0, 0],\n",
       "       [0, 0, 1, 0],\n",
       "       [0, 0, 0, 1]], dtype=int8)"
      ]
     },
     "execution_count": 5,
     "metadata": {},
     "output_type": "execute_result"
    }
   ],
   "source": [
    "np.identity(4, dtype='int8')"
   ]
  },
  {
   "cell_type": "code",
   "execution_count": 6,
   "id": "34cd2a78-9b1e-43cd-8da2-a35d0781844d",
   "metadata": {},
   "outputs": [
    {
     "data": {
      "text/plain": [
       "array([[99, 99, 99, 99],\n",
       "       [99, 99, 99, 99],\n",
       "       [99, 99, 99, 99],\n",
       "       [99, 99, 99, 99]])"
      ]
     },
     "execution_count": 6,
     "metadata": {},
     "output_type": "execute_result"
    }
   ],
   "source": [
    "np.full(shape=(4,4), fill_value=99)"
   ]
  },
  {
   "cell_type": "code",
   "execution_count": 7,
   "id": "46843e66-9cfe-48dc-a028-70c4244e11db",
   "metadata": {},
   "outputs": [
    {
     "data": {
      "text/plain": [
       "array([[10, 20, 30, 40],\n",
       "       [10, 20, 30, 40],\n",
       "       [10, 20, 30, 40],\n",
       "       [10, 20, 30, 40]])"
      ]
     },
     "execution_count": 7,
     "metadata": {},
     "output_type": "execute_result"
    }
   ],
   "source": [
    "np.full(shape=(4,4), fill_value=[10,20,30,40])"
   ]
  },
  {
   "cell_type": "code",
   "execution_count": 9,
   "id": "be27a57d-eda2-4737-bcf6-bc0ee7ab2f74",
   "metadata": {},
   "outputs": [],
   "source": [
    "#### Creación desde datos existentes"
   ]
  },
  {
   "cell_type": "code",
   "execution_count": 10,
   "id": "ca7da8c4-ad20-4935-b8b2-8857111cb2e5",
   "metadata": {},
   "outputs": [
    {
     "data": {
      "text/plain": [
       "array([1., 2., 3., 4.])"
      ]
     },
     "execution_count": 10,
     "metadata": {},
     "output_type": "execute_result"
    }
   ],
   "source": [
    "np.fromstring('1 2 3 4', sep=' ')"
   ]
  },
  {
   "cell_type": "code",
   "execution_count": 12,
   "id": "d5cd7df4-e3ff-44a3-b6f1-67b87aca1182",
   "metadata": {},
   "outputs": [
    {
     "data": {
      "text/plain": [
       "array([[ 1.,  2.,  3.,  4.],\n",
       "       [ 5.,  6.,  7.,  8.],\n",
       "       [ 9., 10., 11., 12.]])"
      ]
     },
     "execution_count": 12,
     "metadata": {},
     "output_type": "execute_result"
    }
   ],
   "source": [
    "datos = np.loadtxt('./datos.txt', delimiter=' ')\n",
    "datos"
   ]
  },
  {
   "cell_type": "code",
   "execution_count": 3,
   "id": "88e7ee60-00e3-4d01-b56b-ab492b5bb285",
   "metadata": {},
   "outputs": [
    {
     "data": {
      "text/plain": [
       "array([ 1.  ,  3.25,  5.5 ,  7.75, 10.  ])"
      ]
     },
     "execution_count": 3,
     "metadata": {},
     "output_type": "execute_result"
    }
   ],
   "source": [
    "np.linspace(start=1, stop=10, num=5) #Crea un array de distribución lineal"
   ]
  },
  {
   "cell_type": "code",
   "execution_count": 14,
   "id": "508e6b3e-0d3c-4a8d-b2c6-dafbb6bda1d6",
   "metadata": {},
   "outputs": [
    {
     "data": {
      "text/plain": [
       "(array([1. , 2.8, 4.6, 6.4, 8.2]), np.float64(1.8))"
      ]
     },
     "execution_count": 14,
     "metadata": {},
     "output_type": "execute_result"
    }
   ],
   "source": [
    "np.linspace(start=1, stop=10, num=5, endpoint=False, retstep=True)"
   ]
  },
  {
   "cell_type": "code",
   "execution_count": 16,
   "id": "12759d8b-a875-4484-a0d3-3e7afa7e5b0f",
   "metadata": {},
   "outputs": [
    {
     "data": {
      "text/plain": [
       "array([1. , 2.8, 4.6, 6.4, 8.2])"
      ]
     },
     "execution_count": 16,
     "metadata": {},
     "output_type": "execute_result"
    }
   ],
   "source": [
    "np.linspace(start=1, stop=10, num=5, endpoint=False, retstep=False)"
   ]
  },
  {
   "cell_type": "code",
   "execution_count": 18,
   "id": "14a4fd64-26f8-4a40-9cfd-a40297e836ac",
   "metadata": {},
   "outputs": [
    {
     "data": {
      "text/plain": [
       "array([2.        , 2.16666667, 2.33333333, 2.5       , 2.66666667,\n",
       "       2.83333333, 3.        , 3.16666667, 3.33333333, 3.5       ])"
      ]
     },
     "execution_count": 18,
     "metadata": {},
     "output_type": "execute_result"
    }
   ],
   "source": [
    "np.linspace(start=2, stop=3.5, num=10)"
   ]
  },
  {
   "cell_type": "code",
   "execution_count": null,
   "id": "b71fc6ee-4d58-4a99-9086-63ee2092bb7f",
   "metadata": {},
   "outputs": [],
   "source": [
    "'''Logspace realiza una función logarítmica, es decir, son los números vistos en linspace anterior, pero:\n",
    "- 10 ** 2 = 100\n",
    "- 10 ** 2.16666667 = 146.77992676\n",
    "- 10 ** 2.33333333 = 215.443469 \n",
    "etc'''"
   ]
  },
  {
   "cell_type": "code",
   "execution_count": 17,
   "id": "94793c77-543c-442e-8c19-0f71bec76c94",
   "metadata": {},
   "outputs": [
    {
     "data": {
      "text/plain": [
       "array([ 100.        ,  146.77992676,  215.443469  ,  316.22776602,\n",
       "        464.15888336,  681.29206906, 1000.        , 1467.79926762,\n",
       "       2154.43469003, 3162.27766017])"
      ]
     },
     "execution_count": 17,
     "metadata": {},
     "output_type": "execute_result"
    }
   ],
   "source": [
    "np.logspace(start=2, stop=3.5, num=10)"
   ]
  },
  {
   "cell_type": "code",
   "execution_count": null,
   "id": "91f43404-07db-4192-b0a6-2e324598e4bf",
   "metadata": {},
   "outputs": [],
   "source": [
    "#### Creación de matrices"
   ]
  },
  {
   "cell_type": "code",
   "execution_count": 21,
   "id": "efb8669a-dd31-49fb-9f18-03cd1b75a887",
   "metadata": {},
   "outputs": [
    {
     "data": {
      "text/plain": [
       "array([[1., 0., 0., 0.],\n",
       "       [0., 1., 0., 0.],\n",
       "       [0., 0., 1., 0.],\n",
       "       [0., 0., 0., 1.]])"
      ]
     },
     "execution_count": 21,
     "metadata": {},
     "output_type": "execute_result"
    }
   ],
   "source": [
    "a = np.eye(N = 4)\n",
    "a"
   ]
  },
  {
   "cell_type": "code",
   "execution_count": 22,
   "id": "e1ba2329-90ce-49be-9b08-4484931698f5",
   "metadata": {},
   "outputs": [
    {
     "data": {
      "text/plain": [
       "array([1., 1., 1., 1.])"
      ]
     },
     "execution_count": 22,
     "metadata": {},
     "output_type": "execute_result"
    }
   ],
   "source": [
    "np.diag(a)"
   ]
  },
  {
   "cell_type": "code",
   "execution_count": 23,
   "id": "2f45b8e9-b0a5-49f9-b5f7-262a0feb0a35",
   "metadata": {},
   "outputs": [
    {
     "data": {
      "text/plain": [
       "array([0., 0., 0.])"
      ]
     },
     "execution_count": 23,
     "metadata": {},
     "output_type": "execute_result"
    }
   ],
   "source": [
    "np.diag(a, k=-1)"
   ]
  },
  {
   "cell_type": "code",
   "execution_count": 24,
   "id": "d646e329-0783-4cd5-91a8-5bf4cc8c54fd",
   "metadata": {},
   "outputs": [
    {
     "data": {
      "text/plain": [
       "array([[1, 0, 0, 0, 0],\n",
       "       [0, 2, 0, 0, 0],\n",
       "       [0, 0, 3, 0, 0],\n",
       "       [0, 0, 0, 4, 0],\n",
       "       [0, 0, 0, 0, 5]])"
      ]
     },
     "execution_count": 24,
     "metadata": {},
     "output_type": "execute_result"
    }
   ],
   "source": [
    "np.diagflat(v = [1,2,3,4,5], k = 0)"
   ]
  },
  {
   "cell_type": "code",
   "execution_count": 26,
   "id": "82fd814b-6bc5-47af-8c5e-b9fa9e3570d0",
   "metadata": {},
   "outputs": [
    {
     "data": {
      "text/plain": [
       "array([[1., 0., 0., 0., 0.],\n",
       "       [1., 1., 0., 0., 0.],\n",
       "       [1., 1., 1., 0., 0.],\n",
       "       [1., 1., 1., 1., 0.],\n",
       "       [1., 1., 1., 1., 1.]])"
      ]
     },
     "execution_count": 26,
     "metadata": {},
     "output_type": "execute_result"
    }
   ],
   "source": [
    "# n.tri pone 1 en la diagonal y debajo y el resto 0\n",
    "np.tri(N = 5, M = 5)"
   ]
  },
  {
   "cell_type": "code",
   "execution_count": 28,
   "id": "e6b0b3e8-4554-455a-9677-db2268790e67",
   "metadata": {},
   "outputs": [
    {
     "data": {
      "text/plain": [
       "array([[0., 0., 0., 0., 0.],\n",
       "       [1., 0., 0., 0., 0.],\n",
       "       [1., 1., 0., 0., 0.],\n",
       "       [1., 1., 1., 0., 0.]])"
      ]
     },
     "execution_count": 28,
     "metadata": {},
     "output_type": "execute_result"
    }
   ],
   "source": [
    "np.tri(N = 4, M = 5, k= -1)"
   ]
  }
 ],
 "metadata": {
  "kernelspec": {
   "display_name": "Python 3 (ipykernel)",
   "language": "python",
   "name": "python3"
  },
  "language_info": {
   "codemirror_mode": {
    "name": "ipython",
    "version": 3
   },
   "file_extension": ".py",
   "mimetype": "text/x-python",
   "name": "python",
   "nbconvert_exporter": "python",
   "pygments_lexer": "ipython3",
   "version": "3.10.16"
  }
 },
 "nbformat": 4,
 "nbformat_minor": 5
}
