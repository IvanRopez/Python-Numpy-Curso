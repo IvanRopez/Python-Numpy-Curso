{
 "cells": [
  {
   "cell_type": "code",
   "execution_count": 1,
   "id": "425e9906-c27e-4697-bf79-3600049bfb62",
   "metadata": {},
   "outputs": [],
   "source": [
    "import numpy as np"
   ]
  },
  {
   "cell_type": "code",
   "execution_count": 3,
   "id": "3c1bfc18-13b7-4bbc-af10-8ae90571ff63",
   "metadata": {},
   "outputs": [
    {
     "data": {
      "text/plain": [
       "array(['ad', 'be', 'cf'], dtype='<U2')"
      ]
     },
     "execution_count": 3,
     "metadata": {},
     "output_type": "execute_result"
    }
   ],
   "source": [
    "a = np.array(['a','b','c'], dtype=str)\n",
    "b = np.array(['d','e','f'], dtype=str)\n",
    "\n",
    "np.char.add(a,b)"
   ]
  },
  {
   "cell_type": "code",
   "execution_count": 4,
   "id": "e578f685-cb76-463e-a462-5c8a3c432f8d",
   "metadata": {},
   "outputs": [
    {
     "data": {
      "text/plain": [
       "array(['aa', 'bbb', 'cccc'], dtype='<U4')"
      ]
     },
     "execution_count": 4,
     "metadata": {},
     "output_type": "execute_result"
    }
   ],
   "source": [
    "np.char.multiply(a, [2,3,4])"
   ]
  },
  {
   "cell_type": "code",
   "execution_count": 6,
   "id": "71625699-a12e-4dd6-a14b-5a230ba9ae0c",
   "metadata": {},
   "outputs": [
    {
     "data": {
      "text/plain": [
       "array(['Maria', 'Antonio', 'Lucía'], dtype='<U7')"
      ]
     },
     "execution_count": 6,
     "metadata": {},
     "output_type": "execute_result"
    }
   ],
   "source": [
    "nombres = (['maria', 'antonio', 'lucía'])\n",
    "np.char.capitalize(nombres)"
   ]
  },
  {
   "cell_type": "code",
   "execution_count": 7,
   "id": "e95a7e45-f832-45a1-b0c9-155ff8655926",
   "metadata": {},
   "outputs": [
    {
     "data": {
      "text/plain": [
       "array(['sofia', 'antonio', 'lucía'], dtype='<U7')"
      ]
     },
     "execution_count": 7,
     "metadata": {},
     "output_type": "execute_result"
    }
   ],
   "source": [
    "np.char.replace(nombres, 'mar', 'sof')"
   ]
  },
  {
   "cell_type": "code",
   "execution_count": 8,
   "id": "9e4ededd-9ad6-4f2a-a3d3-e565bd91cbbb",
   "metadata": {},
   "outputs": [
    {
     "data": {
      "text/plain": [
       "array([list(['Mi', 'nombre', 'es', 'Alojote', 'Loramento'])], dtype=object)"
      ]
     },
     "execution_count": 8,
     "metadata": {},
     "output_type": "execute_result"
    }
   ],
   "source": [
    "nombre = np.array(['Mi nombre es Alojote Loramento'])\n",
    "np.char.split(nombre, sep=' ')"
   ]
  },
  {
   "cell_type": "code",
   "execution_count": 10,
   "id": "1ed9ee75-f5a3-402a-a1d2-fd87448ca703",
   "metadata": {},
   "outputs": [
    {
     "data": {
      "text/plain": [
       "array(['Hola', 'adios'], dtype='<U12')"
      ]
     },
     "execution_count": 10,
     "metadata": {},
     "output_type": "execute_result"
    }
   ],
   "source": [
    "c = np.array(['   Hola ', '   adios    '])\n",
    "np.char.strip(c)"
   ]
  },
  {
   "cell_type": "code",
   "execution_count": null,
   "id": "95372c52-ac10-409d-a8f0-7fbd26ae2ef7",
   "metadata": {},
   "outputs": [],
   "source": [
    "#### Comparación"
   ]
  },
  {
   "cell_type": "code",
   "execution_count": 12,
   "id": "e95bf074-df0b-427f-996c-f4de3abee15c",
   "metadata": {},
   "outputs": [
    {
     "data": {
      "text/plain": [
       "array([False,  True, False])"
      ]
     },
     "execution_count": 12,
     "metadata": {},
     "output_type": "execute_result"
    }
   ],
   "source": [
    "a = np.array(['A','B','C'], dtype = str)\n",
    "b = np.array(['D','B','F'], dtype = str)\n",
    "\n",
    "np.char.equal(a,b)"
   ]
  },
  {
   "cell_type": "code",
   "execution_count": 13,
   "id": "815196d0-3190-4aac-a9d3-2e38a77dce3d",
   "metadata": {},
   "outputs": [
    {
     "data": {
      "text/plain": [
       "array([ True, False,  True])"
      ]
     },
     "execution_count": 13,
     "metadata": {},
     "output_type": "execute_result"
    }
   ],
   "source": [
    "np.char.not_equal(a,b)"
   ]
  },
  {
   "cell_type": "code",
   "execution_count": 14,
   "id": "e7a68a6d-cf33-4f75-b965-fe36379f152d",
   "metadata": {},
   "outputs": [
    {
     "data": {
      "text/plain": [
       "array([False,  True, False])"
      ]
     },
     "execution_count": 14,
     "metadata": {},
     "output_type": "execute_result"
    }
   ],
   "source": [
    "np.char.greater_equal(a,b)"
   ]
  },
  {
   "cell_type": "code",
   "execution_count": 15,
   "id": "45e1f433-627d-4a92-b6c0-a4dca4101ae8",
   "metadata": {},
   "outputs": [
    {
     "data": {
      "text/plain": [
       "array([ True,  True,  True])"
      ]
     },
     "execution_count": 15,
     "metadata": {},
     "output_type": "execute_result"
    }
   ],
   "source": [
    "np.char.less_equal(a,b)"
   ]
  },
  {
   "cell_type": "markdown",
   "id": "437b5634-46d2-4152-9ce7-405ef82d61ea",
   "metadata": {},
   "source": [
    "### Información de cadenas"
   ]
  },
  {
   "cell_type": "code",
   "execution_count": 16,
   "id": "e3e04ed6-1c39-4c48-a0dd-aa8f3c5986c0",
   "metadata": {},
   "outputs": [
    {
     "data": {
      "text/plain": [
       "array([False,  True])"
      ]
     },
     "execution_count": 16,
     "metadata": {},
     "output_type": "execute_result"
    }
   ],
   "source": [
    "c = np.array(['Hola','Adios'])\n",
    "np.char.endswith(c, suffix='ios')"
   ]
  },
  {
   "cell_type": "code",
   "execution_count": 17,
   "id": "5dad1b18-3bcb-4b23-b109-2018294128cb",
   "metadata": {},
   "outputs": [
    {
     "data": {
      "text/plain": [
       "array([False,  True])"
      ]
     },
     "execution_count": 17,
     "metadata": {},
     "output_type": "execute_result"
    }
   ],
   "source": [
    "np.char.startswith(c, prefix='Ad')"
   ]
  },
  {
   "cell_type": "code",
   "execution_count": 18,
   "id": "8010d6df-9bc7-413c-b98c-8e6d108a890e",
   "metadata": {},
   "outputs": [
    {
     "data": {
      "text/plain": [
       "array([False,  True])"
      ]
     },
     "execution_count": 18,
     "metadata": {},
     "output_type": "execute_result"
    }
   ],
   "source": [
    "c = np.array(['HOLA', 'adios'])\n",
    "np.char.islower(c)"
   ]
  },
  {
   "cell_type": "code",
   "execution_count": 19,
   "id": "4be07684-c90e-4917-b88d-ab6546373843",
   "metadata": {},
   "outputs": [
    {
     "data": {
      "text/plain": [
       "array([ True, False])"
      ]
     },
     "execution_count": 19,
     "metadata": {},
     "output_type": "execute_result"
    }
   ],
   "source": [
    "np.char.isupper(c)"
   ]
  },
  {
   "cell_type": "code",
   "execution_count": 20,
   "id": "3bb3c846-5164-43f3-a4b5-013e1124ac17",
   "metadata": {},
   "outputs": [
    {
     "data": {
      "text/plain": [
       "array([False, False,  True])"
      ]
     },
     "execution_count": 20,
     "metadata": {},
     "output_type": "execute_result"
    }
   ],
   "source": [
    "c = np.array(['HOLA', 'adios', '1230'])\n",
    "np.char.isdigit(c)"
   ]
  },
  {
   "cell_type": "code",
   "execution_count": 21,
   "id": "d2285cc5-326f-4418-ab11-089dbfbd24ee",
   "metadata": {},
   "outputs": [
    {
     "data": {
      "text/plain": [
       "array(['1230'], dtype='<U5')"
      ]
     },
     "execution_count": 21,
     "metadata": {},
     "output_type": "execute_result"
    }
   ],
   "source": [
    "c[np.char.isdigit(c)]"
   ]
  }
 ],
 "metadata": {
  "kernelspec": {
   "display_name": "Python 3 (ipykernel)",
   "language": "python",
   "name": "python3"
  },
  "language_info": {
   "codemirror_mode": {
    "name": "ipython",
    "version": 3
   },
   "file_extension": ".py",
   "mimetype": "text/x-python",
   "name": "python",
   "nbconvert_exporter": "python",
   "pygments_lexer": "ipython3",
   "version": "3.10.16"
  }
 },
 "nbformat": 4,
 "nbformat_minor": 5
}
