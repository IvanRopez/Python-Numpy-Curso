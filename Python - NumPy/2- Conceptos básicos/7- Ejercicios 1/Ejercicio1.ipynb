{
 "cells": [
  {
   "cell_type": "code",
   "execution_count": null,
   "id": "c6fa1148-07f5-48a2-8efc-f708578b5f4e",
   "metadata": {},
   "outputs": [],
   "source": [
    "'''\n",
    "EJERCICIO 1\n",
    "Crea 3 nuevos arrays\n",
    "    - Array de tipo entero que contenga solo los números impares del 1 al 100\n",
    "    - Array de tipo cadena con tu nombre y apellidos\n",
    "    - Array de tipo fecha, que contenga todos los días comprendidos desde el 01Enero2020 al 04Febrero2020'''"
   ]
  },
  {
   "cell_type": "code",
   "execution_count": 35,
   "id": "11fb737d-b58e-4c2c-b41b-40b5c7fc3080",
   "metadata": {},
   "outputs": [
    {
     "data": {
      "text/plain": [
       "array([ 1,  3,  5,  7,  9, 11, 13, 15, 17, 19, 21, 23, 25, 27, 29, 31, 33,\n",
       "       35, 37, 39, 41, 43, 45, 47, 49, 51, 53, 55, 57, 59, 61, 63, 65, 67,\n",
       "       69, 71, 73, 75, 77, 79, 81, 83, 85, 87, 89, 91, 93, 95, 97, 99])"
      ]
     },
     "execution_count": 35,
     "metadata": {},
     "output_type": "execute_result"
    }
   ],
   "source": [
    "import numpy as np\n",
    "array_entero = np.arange(1,100,2)\n",
    "array_entero"
   ]
  },
  {
   "cell_type": "code",
   "execution_count": 36,
   "id": "8c063cc7-8457-4254-af32-e096f18272ae",
   "metadata": {},
   "outputs": [
    {
     "data": {
      "text/plain": [
       "array(['Iván ', 'Perez ', 'Gutiérrez'], dtype='<U9')"
      ]
     },
     "execution_count": 36,
     "metadata": {},
     "output_type": "execute_result"
    }
   ],
   "source": [
    "array_cadena = np.array(['Iván ', 'Perez ', 'Gutiérrez'])\n",
    "array_cadena"
   ]
  },
  {
   "cell_type": "code",
   "execution_count": 34,
   "id": "01405769-cf66-4a51-bdf2-c0100bdd2b1e",
   "metadata": {},
   "outputs": [
    {
     "data": {
      "text/plain": [
       "array(['2020-01-01', '2020-01-02', '2020-01-03', '2020-01-04',\n",
       "       '2020-01-05', '2020-01-06', '2020-01-07', '2020-01-08',\n",
       "       '2020-01-09', '2020-01-10', '2020-01-11', '2020-01-12',\n",
       "       '2020-01-13', '2020-01-14', '2020-01-15', '2020-01-16',\n",
       "       '2020-01-17', '2020-01-18', '2020-01-19', '2020-01-20',\n",
       "       '2020-01-21', '2020-01-22', '2020-01-23', '2020-01-24',\n",
       "       '2020-01-25', '2020-01-26', '2020-01-27', '2020-01-28',\n",
       "       '2020-01-29', '2020-01-30', '2020-01-31', '2020-02-01',\n",
       "       '2020-02-02', '2020-02-03'], dtype='datetime64[D]')"
      ]
     },
     "execution_count": 34,
     "metadata": {},
     "output_type": "execute_result"
    }
   ],
   "source": [
    "array_fecha = np.arange('2020-01-01', '2020-02-04', dtype = 'datetime64[D]')\n",
    "array_fecha"
   ]
  },
  {
   "cell_type": "code",
   "execution_count": null,
   "id": "5d83c4f4-3dbb-4262-8e8c-4b569a6acc29",
   "metadata": {},
   "outputs": [],
   "source": [
    "'''\n",
    "EJERCICIO 2\n",
    "Recupera los últimos 10 elementos del array de impares'''"
   ]
  },
  {
   "cell_type": "code",
   "execution_count": 54,
   "id": "265eaa88-7b36-488a-9728-ce548533d59d",
   "metadata": {},
   "outputs": [
    {
     "data": {
      "text/plain": [
       "array([99, 97, 95, 93, 91, 89, 87, 85, 83, 81])"
      ]
     },
     "execution_count": 54,
     "metadata": {},
     "output_type": "execute_result"
    }
   ],
   "source": [
    "recuperar_dig = array_entero[:-11:-1]\n",
    "recuperar_dig"
   ]
  },
  {
   "cell_type": "code",
   "execution_count": null,
   "id": "064c5bbe-e820-474d-bcc7-a79147602351",
   "metadata": {},
   "outputs": [],
   "source": [
    "'''\n",
    "EJERCICIO 3\n",
    "Recorre el array de fechas, y genera un nuevo array que contenga unicamente los laborales'''"
   ]
  },
  {
   "cell_type": "code",
   "execution_count": 71,
   "id": "a3bf395a-f72a-4dbe-a235-09fb83720863",
   "metadata": {},
   "outputs": [
    {
     "data": {
      "text/plain": [
       "array(['2020-01-01', '2020-01-02', '2020-01-03', '2020-01-06',\n",
       "       '2020-01-07', '2020-01-08', '2020-01-09', '2020-01-10',\n",
       "       '2020-01-13', '2020-01-14', '2020-01-15', '2020-01-16',\n",
       "       '2020-01-17', '2020-01-20', '2020-01-21', '2020-01-22',\n",
       "       '2020-01-23', '2020-01-24', '2020-01-27', '2020-01-28',\n",
       "       '2020-01-29', '2020-01-30', '2020-01-31', '2020-02-03'],\n",
       "      dtype='datetime64[D]')"
      ]
     },
     "execution_count": 71,
     "metadata": {},
     "output_type": "execute_result"
    }
   ],
   "source": [
    "laborales = array_fecha[np.is_busday(array_fecha)]\n",
    "laborales"
   ]
  },
  {
   "cell_type": "code",
   "execution_count": null,
   "id": "824cbbb2-f261-4bcd-bcc2-787136058593",
   "metadata": {},
   "outputs": [],
   "source": [
    "'''\n",
    "EJERCICIO 4\n",
    "Generar la matriz ( se muestra en el video ). ¿De que tipo es? Luego, implementa una máscara a todos los números de la matriz mayores o iguales a 10.'''"
   ]
  },
  {
   "cell_type": "code",
   "execution_count": 81,
   "id": "6d654c9d-0946-4769-83aa-ddc387edecbc",
   "metadata": {},
   "outputs": [
    {
     "data": {
      "text/plain": [
       "dtype('int64')"
      ]
     },
     "execution_count": 81,
     "metadata": {},
     "output_type": "execute_result"
    }
   ],
   "source": [
    "A = np.matrix([[10,1,8,4],[3,7,2,1],[0,2,20,12]])\n",
    "A.dtype"
   ]
  },
  {
   "cell_type": "code",
   "execution_count": 80,
   "id": "2aaf80a6-73a6-48df-8a32-611d8453ead5",
   "metadata": {},
   "outputs": [
    {
     "data": {
      "text/plain": [
       "matrix([[10,  1,  8,  4],\n",
       "        [ 3,  7,  2,  1],\n",
       "        [ 0,  2, 20, 12]])"
      ]
     },
     "execution_count": 80,
     "metadata": {},
     "output_type": "execute_result"
    }
   ],
   "source": [
    "A"
   ]
  },
  {
   "cell_type": "code",
   "execution_count": 77,
   "id": "597b9b3e-81f1-436e-9b89-5cbfc7993d7e",
   "metadata": {},
   "outputs": [
    {
     "data": {
      "text/plain": [
       "masked_matrix(\n",
       "  data=[[--, 1, 8, 4],\n",
       "        [3, 7, 2, 1],\n",
       "        [0, 2, --, --]],\n",
       "  mask=[[ True, False, False, False],\n",
       "        [False, False, False, False],\n",
       "        [False, False,  True,  True]],\n",
       "  fill_value=999999)"
      ]
     },
     "execution_count": 77,
     "metadata": {},
     "output_type": "execute_result"
    }
   ],
   "source": [
    "import numpy.ma as ma\n",
    "mask = ma.masked_greater_equal(A, 10)\n",
    "mask"
   ]
  },
  {
   "cell_type": "code",
   "execution_count": null,
   "id": "a8ae2143-22e6-4395-a7e3-ba1290db4d40",
   "metadata": {},
   "outputs": [],
   "source": [
    "'''\n",
    "EJERCICIO 5\n",
    "Crea dos fechas, la primera de ellas sera tu fecha de nacimiento, y la segunda, la de un familiar o amigo tuyo.\n",
    "    - ¿Que diferencia en horas hay entre las dos fechas?\n",
    "    - ?Cuál sería tu fecha de nacimiento si hubieras nacido 236 horas antes.'''"
   ]
  },
  {
   "cell_type": "code",
   "execution_count": 89,
   "id": "8c7d92a6-1f37-4d5f-904c-7a8e41fe90bb",
   "metadata": {},
   "outputs": [
    {
     "data": {
      "text/plain": [
       "np.timedelta64(-1246,'D')"
      ]
     },
     "execution_count": 89,
     "metadata": {},
     "output_type": "execute_result"
    }
   ],
   "source": [
    "fecha1 = np.datetime64('1998-04-14')\n",
    "fecha2 = np.datetime64('2001-09-11')\n",
    "\n",
    "diferencia = fecha1 - fecha2\n",
    "diferencia"
   ]
  },
  {
   "cell_type": "code",
   "execution_count": 93,
   "id": "f215054c-798c-46a8-b248-b90c9440cf6b",
   "metadata": {},
   "outputs": [
    {
     "data": {
      "text/plain": [
       "np.timedelta64(-29904,'h')"
      ]
     },
     "execution_count": 93,
     "metadata": {},
     "output_type": "execute_result"
    }
   ],
   "source": [
    "np.timedelta64(diferencia, 'h')"
   ]
  },
  {
   "cell_type": "code",
   "execution_count": 103,
   "id": "72ab3a19-e33e-49d9-9223-c521b33c3af4",
   "metadata": {},
   "outputs": [
    {
     "data": {
      "text/plain": [
       "np.datetime64('1998-04-04T04','h')"
      ]
     },
     "execution_count": 103,
     "metadata": {},
     "output_type": "execute_result"
    }
   ],
   "source": [
    "fecha1 - np.timedelta64(236, 'h')"
   ]
  }
 ],
 "metadata": {
  "kernelspec": {
   "display_name": "Python 3 (ipykernel)",
   "language": "python",
   "name": "python3"
  },
  "language_info": {
   "codemirror_mode": {
    "name": "ipython",
    "version": 3
   },
   "file_extension": ".py",
   "mimetype": "text/x-python",
   "name": "python",
   "nbconvert_exporter": "python",
   "pygments_lexer": "ipython3",
   "version": "3.10.16"
  }
 },
 "nbformat": 4,
 "nbformat_minor": 5
}
