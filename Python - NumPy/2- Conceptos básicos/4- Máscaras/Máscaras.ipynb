{
 "cells": [
  {
   "cell_type": "code",
   "execution_count": 2,
   "id": "648cba39-e911-4b98-8ea9-383e01178991",
   "metadata": {},
   "outputs": [],
   "source": [
    "import numpy as np\n",
    "import numpy.ma as ma"
   ]
  },
  {
   "cell_type": "code",
   "execution_count": 3,
   "id": "09121874-3ad5-499f-9cef-95d494d9604d",
   "metadata": {},
   "outputs": [
    {
     "data": {
      "text/plain": [
       "array([ 1,  2,  3, -1,  4])"
      ]
     },
     "execution_count": 3,
     "metadata": {},
     "output_type": "execute_result"
    }
   ],
   "source": [
    "x = np.array([1,2,3,-1,4])\n",
    "x"
   ]
  },
  {
   "cell_type": "code",
   "execution_count": 4,
   "id": "573a8d64-ff17-4ad4-b80e-43ec59a6bce4",
   "metadata": {},
   "outputs": [
    {
     "data": {
      "text/plain": [
       "masked_array(data=[1, 2, 3, --, 4],\n",
       "             mask=[False, False, False,  True, False],\n",
       "       fill_value=999999)"
      ]
     },
     "execution_count": 4,
     "metadata": {},
     "output_type": "execute_result"
    }
   ],
   "source": [
    "mask_array = ma.masked_array(x, mask = [0,0,0,1,0])\n",
    "mask_array"
   ]
  },
  {
   "cell_type": "code",
   "execution_count": 5,
   "id": "c60d4e17-73dc-45a0-a508-ef787a4ca3c4",
   "metadata": {},
   "outputs": [
    {
     "data": {
      "text/plain": [
       "np.int64(-1)"
      ]
     },
     "execution_count": 5,
     "metadata": {},
     "output_type": "execute_result"
    }
   ],
   "source": [
    "x.min()"
   ]
  },
  {
   "cell_type": "code",
   "execution_count": 33,
   "id": "a011b50a-2b55-43c5-a007-5e3111f44268",
   "metadata": {},
   "outputs": [
    {
     "data": {
      "text/plain": [
       "np.int64(1)"
      ]
     },
     "execution_count": 33,
     "metadata": {},
     "output_type": "execute_result"
    }
   ],
   "source": [
    "mask_array.min()"
   ]
  },
  {
   "cell_type": "code",
   "execution_count": 8,
   "id": "db7630a8-e82f-4301-9074-f943fe4517c8",
   "metadata": {
    "scrolled": true
   },
   "outputs": [
    {
     "data": {
      "text/plain": [
       "masked_array(data=[1, 2, 3, --, 4],\n",
       "             mask=[False, False, False,  True, False],\n",
       "       fill_value=999999)"
      ]
     },
     "execution_count": 8,
     "metadata": {},
     "output_type": "execute_result"
    }
   ],
   "source": [
    "x = ma.array([1,2,3,-1,4], mask = [0,0,0,1,0])\n",
    "x"
   ]
  },
  {
   "cell_type": "code",
   "execution_count": 9,
   "id": "643acd64-5789-444a-a394-0e7ae1e7b88f",
   "metadata": {},
   "outputs": [
    {
     "data": {
      "text/plain": [
       "array([1, 2, 3, 4])"
      ]
     },
     "execution_count": 9,
     "metadata": {},
     "output_type": "execute_result"
    }
   ],
   "source": [
    "x.compressed()"
   ]
  },
  {
   "cell_type": "code",
   "execution_count": 11,
   "id": "efa78389-74bb-475a-9308-d484c95029e8",
   "metadata": {},
   "outputs": [
    {
     "data": {
      "text/plain": [
       "masked_array(data=[--, --, --, --, --],\n",
       "             mask=[ True,  True,  True,  True,  True],\n",
       "       fill_value=999999,\n",
       "            dtype=int64)"
      ]
     },
     "execution_count": 11,
     "metadata": {},
     "output_type": "execute_result"
    }
   ],
   "source": [
    "x.mask = True\n",
    "x"
   ]
  },
  {
   "cell_type": "code",
   "execution_count": 12,
   "id": "2cdc5f24-5852-4744-a8ef-d474cef45680",
   "metadata": {},
   "outputs": [
    {
     "data": {
      "text/plain": [
       "masked_array(data=[1, 2, 3, -1, 4],\n",
       "             mask=[False, False, False, False, False],\n",
       "       fill_value=999999)"
      ]
     },
     "execution_count": 12,
     "metadata": {},
     "output_type": "execute_result"
    }
   ],
   "source": [
    "x.mask = False\n",
    "x"
   ]
  },
  {
   "cell_type": "code",
   "execution_count": 13,
   "id": "25773293-c839-4465-b1f2-bc63646eabbd",
   "metadata": {},
   "outputs": [
    {
     "data": {
      "text/plain": [
       "masked_array(data=[1, 2, 3, --, 4],\n",
       "             mask=[False, False, False,  True, False],\n",
       "       fill_value=999999)"
      ]
     },
     "execution_count": 13,
     "metadata": {},
     "output_type": "execute_result"
    }
   ],
   "source": [
    "x.mask = [0,0,0,1,0]\n",
    "x"
   ]
  },
  {
   "cell_type": "code",
   "execution_count": 14,
   "id": "07e92cf7-ce89-4e93-b8c8-7aab8d734c0a",
   "metadata": {},
   "outputs": [
    {
     "data": {
      "text/plain": [
       "False"
      ]
     },
     "execution_count": 14,
     "metadata": {},
     "output_type": "execute_result"
    }
   ],
   "source": [
    "x[0] is ma.masked"
   ]
  },
  {
   "cell_type": "code",
   "execution_count": 21,
   "id": "0449996b-f2ff-4533-8aee-5c8f7f5ba139",
   "metadata": {},
   "outputs": [
    {
     "data": {
      "text/plain": [
       "array([1, 2, 3, 0, 4])"
      ]
     },
     "execution_count": 21,
     "metadata": {},
     "output_type": "execute_result"
    }
   ],
   "source": [
    "x.filled(0)"
   ]
  },
  {
   "cell_type": "code",
   "execution_count": 24,
   "id": "64e21dfe-3b99-419b-9a83-484cac0a6373",
   "metadata": {},
   "outputs": [
    {
     "data": {
      "text/plain": [
       "array([ 1,  2,  3, -1,  4])"
      ]
     },
     "execution_count": 24,
     "metadata": {},
     "output_type": "execute_result"
    }
   ],
   "source": [
    "x = np.array([1,2,3,-1,4])\n",
    "x"
   ]
  },
  {
   "cell_type": "code",
   "execution_count": 25,
   "id": "f06eb4b5-d1b8-4530-9644-5bfca5cfc788",
   "metadata": {},
   "outputs": [
    {
     "data": {
      "text/plain": [
       "masked_array(data=[1, 2, 3, -1, --],\n",
       "             mask=[False, False, False, False,  True],\n",
       "       fill_value=4)"
      ]
     },
     "execution_count": 25,
     "metadata": {},
     "output_type": "execute_result"
    }
   ],
   "source": [
    "ma.masked_equal(x, 4)"
   ]
  },
  {
   "cell_type": "code",
   "execution_count": 26,
   "id": "ea65846e-93ea-4f9b-a81e-5633bd3c4f11",
   "metadata": {},
   "outputs": [
    {
     "data": {
      "text/plain": [
       "masked_array(data=[--, 2, --, --, --],\n",
       "             mask=[ True, False,  True,  True,  True],\n",
       "       fill_value=999999)"
      ]
     },
     "execution_count": 26,
     "metadata": {},
     "output_type": "execute_result"
    }
   ],
   "source": [
    "ma.masked_not_equal(x, 2)"
   ]
  },
  {
   "cell_type": "code",
   "execution_count": 27,
   "id": "583e8316-6ef9-44b1-b7ca-ff326126520a",
   "metadata": {},
   "outputs": [
    {
     "data": {
      "text/plain": [
       "masked_array(data=[--, 2, 3, --, 4],\n",
       "             mask=[ True, False, False,  True, False],\n",
       "       fill_value=999999)"
      ]
     },
     "execution_count": 27,
     "metadata": {},
     "output_type": "execute_result"
    }
   ],
   "source": [
    "ma.masked_where(x<2, x)"
   ]
  },
  {
   "cell_type": "code",
   "execution_count": 29,
   "id": "6b7ae40e-0fb8-4d6f-bd47-1782935adbce",
   "metadata": {},
   "outputs": [
    {
     "data": {
      "text/plain": [
       "masked_array(data=[1, --, --, -1, --],\n",
       "             mask=[False,  True,  True, False,  True],\n",
       "       fill_value=999999)"
      ]
     },
     "execution_count": 29,
     "metadata": {},
     "output_type": "execute_result"
    }
   ],
   "source": [
    "ma.masked_greater_equal(x, 2)"
   ]
  },
  {
   "cell_type": "code",
   "execution_count": 30,
   "id": "be62e3f6-b3d2-4831-abac-cd4b9fbbe820",
   "metadata": {},
   "outputs": [
    {
     "data": {
      "text/plain": [
       "masked_array(data=[--, --, 3, --, 4],\n",
       "             mask=[ True,  True, False,  True, False],\n",
       "       fill_value=999999)"
      ]
     },
     "execution_count": 30,
     "metadata": {},
     "output_type": "execute_result"
    }
   ],
   "source": [
    "ma.masked_less_equal(x, 2)"
   ]
  },
  {
   "cell_type": "code",
   "execution_count": 31,
   "id": "23395754-a041-4eed-b830-28bbc12c1e95",
   "metadata": {},
   "outputs": [
    {
     "data": {
      "text/plain": [
       "masked_array(data=[--, --, --, -1, 4],\n",
       "             mask=[ True,  True,  True, False, False],\n",
       "       fill_value=999999)"
      ]
     },
     "execution_count": 31,
     "metadata": {},
     "output_type": "execute_result"
    }
   ],
   "source": [
    "ma.masked_inside(x, 1, 3)"
   ]
  }
 ],
 "metadata": {
  "kernelspec": {
   "display_name": "Python 3 (ipykernel)",
   "language": "python",
   "name": "python3"
  },
  "language_info": {
   "codemirror_mode": {
    "name": "ipython",
    "version": 3
   },
   "file_extension": ".py",
   "mimetype": "text/x-python",
   "name": "python",
   "nbconvert_exporter": "python",
   "pygments_lexer": "ipython3",
   "version": "3.10.16"
  }
 },
 "nbformat": 4,
 "nbformat_minor": 5
}
