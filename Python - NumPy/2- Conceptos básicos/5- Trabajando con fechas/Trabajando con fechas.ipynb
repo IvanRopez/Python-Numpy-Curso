{
 "cells": [
  {
   "cell_type": "code",
   "execution_count": 1,
   "id": "89bc499e-2549-4dd2-abfc-5175d4f02689",
   "metadata": {},
   "outputs": [],
   "source": [
    "import numpy as np"
   ]
  },
  {
   "cell_type": "code",
   "execution_count": 2,
   "id": "74a3962d-9691-4fc8-905f-4e0220e449c0",
   "metadata": {},
   "outputs": [
    {
     "data": {
      "text/plain": [
       "np.datetime64('2020-09-01')"
      ]
     },
     "execution_count": 2,
     "metadata": {},
     "output_type": "execute_result"
    }
   ],
   "source": [
    "d = np.datetime64('2020-09-01')\n",
    "d"
   ]
  },
  {
   "cell_type": "code",
   "execution_count": 4,
   "id": "06085718-11b2-4745-b405-05e4b6607173",
   "metadata": {},
   "outputs": [
    {
     "data": {
      "text/plain": [
       "np.datetime64('2020-10-02T14:35')"
      ]
     },
     "execution_count": 4,
     "metadata": {},
     "output_type": "execute_result"
    }
   ],
   "source": [
    "dh = np.datetime64('2020-10-02T14:35')\n",
    "dh"
   ]
  },
  {
   "cell_type": "code",
   "execution_count": 5,
   "id": "c70437ac-178f-4030-ae53-9c3f3debe547",
   "metadata": {},
   "outputs": [
    {
     "data": {
      "text/plain": [
       "array(['2020-07-12', '2021-07-12', '2022-07-12'], dtype='<U10')"
      ]
     },
     "execution_count": 5,
     "metadata": {},
     "output_type": "execute_result"
    }
   ],
   "source": [
    "np.array(['2020-07-12', '2021-07-12', '2022-07-12'])"
   ]
  },
  {
   "cell_type": "code",
   "execution_count": 7,
   "id": "b05bacc0-f36e-4bcf-bd02-a39e695e92fc",
   "metadata": {},
   "outputs": [
    {
     "data": {
      "text/plain": [
       "array(['2020-07-12', '2021-07-12', '2022-07-12'], dtype='datetime64[D]')"
      ]
     },
     "execution_count": 7,
     "metadata": {},
     "output_type": "execute_result"
    }
   ],
   "source": [
    "np.array(['2020-07-12', '2021-07-12', '2022-07-12'], dtype = np.datetime64)"
   ]
  },
  {
   "cell_type": "code",
   "execution_count": 10,
   "id": "bfe3b3d1-6f00-420b-bb24-80158904aa06",
   "metadata": {},
   "outputs": [
    {
     "data": {
      "text/plain": [
       "array(['2020-07-30', '2020-08-06', '2020-08-13', '2020-08-20'],\n",
       "      dtype='datetime64[W]')"
      ]
     },
     "execution_count": 10,
     "metadata": {},
     "output_type": "execute_result"
    }
   ],
   "source": [
    "np.arange('2020-08', '2020-09', dtype = 'datetime64[W]')"
   ]
  },
  {
   "cell_type": "code",
   "execution_count": 11,
   "id": "d3d5a4e8-2a74-4823-9eeb-f2f354f880f0",
   "metadata": {},
   "outputs": [
    {
     "data": {
      "text/plain": [
       "array(['2020-08-01', '2020-08-02', '2020-08-03', '2020-08-04',\n",
       "       '2020-08-05', '2020-08-06', '2020-08-07', '2020-08-08',\n",
       "       '2020-08-09', '2020-08-10', '2020-08-11', '2020-08-12',\n",
       "       '2020-08-13', '2020-08-14', '2020-08-15', '2020-08-16',\n",
       "       '2020-08-17', '2020-08-18', '2020-08-19', '2020-08-20',\n",
       "       '2020-08-21', '2020-08-22', '2020-08-23', '2020-08-24',\n",
       "       '2020-08-25', '2020-08-26', '2020-08-27', '2020-08-28',\n",
       "       '2020-08-29', '2020-08-30', '2020-08-31'], dtype='datetime64[D]')"
      ]
     },
     "execution_count": 11,
     "metadata": {},
     "output_type": "execute_result"
    }
   ],
   "source": [
    "np.arange('2020-08', '2020-09', dtype = 'datetime64[D]')"
   ]
  },
  {
   "cell_type": "code",
   "execution_count": 16,
   "id": "e74fe17d-eb02-4f02-a0d4-79c84bb7e1ad",
   "metadata": {},
   "outputs": [
    {
     "data": {
      "text/plain": [
       "np.False_"
      ]
     },
     "execution_count": 16,
     "metadata": {},
     "output_type": "execute_result"
    }
   ],
   "source": [
    "np.datetime64('2020-09') == np.datetime64('2020-09-02')"
   ]
  },
  {
   "cell_type": "code",
   "execution_count": 17,
   "id": "a497305a-5447-4b76-a979-6d277db536d8",
   "metadata": {},
   "outputs": [
    {
     "data": {
      "text/plain": [
       "np.timedelta64(4,'D')"
      ]
     },
     "execution_count": 17,
     "metadata": {},
     "output_type": "execute_result"
    }
   ],
   "source": [
    "np.timedelta64(4, 'D')"
   ]
  },
  {
   "cell_type": "code",
   "execution_count": 18,
   "id": "fa073c4f-c600-4d36-aa6e-c41fdd2a312f",
   "metadata": {},
   "outputs": [
    {
     "data": {
      "text/plain": [
       "np.timedelta64(10,'h')"
      ]
     },
     "execution_count": 18,
     "metadata": {},
     "output_type": "execute_result"
    }
   ],
   "source": [
    "np.timedelta64(10, 'h')"
   ]
  },
  {
   "cell_type": "code",
   "execution_count": 20,
   "id": "cd294b8d-1b61-4c83-ad4b-cb07a50bb9bd",
   "metadata": {},
   "outputs": [
    {
     "data": {
      "text/plain": [
       "np.timedelta64(8,'D')"
      ]
     },
     "execution_count": 20,
     "metadata": {},
     "output_type": "execute_result"
    }
   ],
   "source": [
    "a = np.timedelta64(8, 'D')\n",
    "a"
   ]
  },
  {
   "cell_type": "code",
   "execution_count": 21,
   "id": "6caea3ac-adca-46db-bd3a-fb84a7132b29",
   "metadata": {},
   "outputs": [
    {
     "data": {
      "text/plain": [
       "np.timedelta64(1,'W')"
      ]
     },
     "execution_count": 21,
     "metadata": {},
     "output_type": "execute_result"
    }
   ],
   "source": [
    "np.timedelta64(a,'W')"
   ]
  },
  {
   "cell_type": "code",
   "execution_count": 23,
   "id": "87358f8a-fa39-4689-81ef-177047e26686",
   "metadata": {},
   "outputs": [
    {
     "data": {
      "text/plain": [
       "np.datetime64('2020-08-03T00','h')"
      ]
     },
     "execution_count": 23,
     "metadata": {},
     "output_type": "execute_result"
    }
   ],
   "source": [
    "np.datetime64('2020-08-01') + np.timedelta64(48, 'h')"
   ]
  },
  {
   "cell_type": "code",
   "execution_count": 24,
   "id": "3b0c4db1-8809-496f-9933-826c857e47d8",
   "metadata": {},
   "outputs": [
    {
     "data": {
      "text/plain": [
       "np.timedelta64(31,'D')"
      ]
     },
     "execution_count": 24,
     "metadata": {},
     "output_type": "execute_result"
    }
   ],
   "source": [
    "np.datetime64('2020-08-01') - np.datetime64('2020-07-01')"
   ]
  },
  {
   "cell_type": "code",
   "execution_count": 25,
   "id": "305fb9a8-280d-43e4-9b38-58e52eeb37f6",
   "metadata": {},
   "outputs": [
    {
     "data": {
      "text/plain": [
       "np.timedelta64(11,'D')"
      ]
     },
     "execution_count": 25,
     "metadata": {},
     "output_type": "execute_result"
    }
   ],
   "source": [
    "np.timedelta64(1, 'W') + np.timedelta64(4, 'D')"
   ]
  },
  {
   "cell_type": "code",
   "execution_count": 26,
   "id": "f9047d81-92b9-466e-bc0b-8c9034ac171e",
   "metadata": {},
   "outputs": [
    {
     "data": {
      "text/plain": [
       "np.datetime64('2020-09-07')"
      ]
     },
     "execution_count": 26,
     "metadata": {},
     "output_type": "execute_result"
    }
   ],
   "source": [
    "np.busday_offset('2020-09-03', 2)"
   ]
  },
  {
   "cell_type": "code",
   "execution_count": 27,
   "id": "43af4747-22e0-4138-9324-1273ee445ff3",
   "metadata": {},
   "outputs": [
    {
     "data": {
      "text/plain": [
       "np.datetime64('2020-09-07')"
      ]
     },
     "execution_count": 27,
     "metadata": {},
     "output_type": "execute_result"
    }
   ],
   "source": [
    "np.busday_offset('2020-09-05', 0, roll='forward')"
   ]
  },
  {
   "cell_type": "code",
   "execution_count": 29,
   "id": "b7495789-427d-4cdf-b5ca-33bacd23450b",
   "metadata": {},
   "outputs": [
    {
     "data": {
      "text/plain": [
       "np.False_"
      ]
     },
     "execution_count": 29,
     "metadata": {},
     "output_type": "execute_result"
    }
   ],
   "source": [
    "np.is_busday(np.datetime64('2020-09-05'))"
   ]
  },
  {
   "cell_type": "code",
   "execution_count": 30,
   "id": "2f4cc368-391e-4d6f-ac4e-1a7626736a90",
   "metadata": {},
   "outputs": [
    {
     "data": {
      "text/plain": [
       "np.int64(21)"
      ]
     },
     "execution_count": 30,
     "metadata": {},
     "output_type": "execute_result"
    }
   ],
   "source": [
    "np.busday_count(np.datetime64('2020-09-01'), np.datetime64('2020-09-30'))"
   ]
  }
 ],
 "metadata": {
  "kernelspec": {
   "display_name": "Python 3 (ipykernel)",
   "language": "python",
   "name": "python3"
  },
  "language_info": {
   "codemirror_mode": {
    "name": "ipython",
    "version": 3
   },
   "file_extension": ".py",
   "mimetype": "text/x-python",
   "name": "python",
   "nbconvert_exporter": "python",
   "pygments_lexer": "ipython3",
   "version": "3.10.16"
  }
 },
 "nbformat": 4,
 "nbformat_minor": 5
}
