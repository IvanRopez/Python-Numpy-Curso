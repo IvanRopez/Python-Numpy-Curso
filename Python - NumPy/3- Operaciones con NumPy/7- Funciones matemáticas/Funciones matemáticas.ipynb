{
 "cells": [
  {
   "cell_type": "code",
   "execution_count": 1,
   "id": "edcc6244-70a6-401f-a518-5121ac2aac4c",
   "metadata": {},
   "outputs": [],
   "source": [
    "import numpy as np"
   ]
  },
  {
   "cell_type": "code",
   "execution_count": 2,
   "id": "be7427f3-ce84-4071-b58a-6c55168146d7",
   "metadata": {},
   "outputs": [],
   "source": [
    "### Redondeo"
   ]
  },
  {
   "cell_type": "code",
   "execution_count": 4,
   "id": "9115dd4e-47f2-411f-a6c8-48f5410615c7",
   "metadata": {},
   "outputs": [
    {
     "data": {
      "text/plain": [
       "2.49264"
      ]
     },
     "execution_count": 4,
     "metadata": {},
     "output_type": "execute_result"
    }
   ],
   "source": [
    "a = 2.49264\n",
    "a"
   ]
  },
  {
   "cell_type": "code",
   "execution_count": 5,
   "id": "03d9335f-7fd7-4e58-92d9-a0ff6d976a02",
   "metadata": {},
   "outputs": [
    {
     "data": {
      "text/plain": [
       "np.float64(2.49)"
      ]
     },
     "execution_count": 5,
     "metadata": {},
     "output_type": "execute_result"
    }
   ],
   "source": [
    "np.round(a,2)"
   ]
  },
  {
   "cell_type": "code",
   "execution_count": 6,
   "id": "ba580c02-92b8-452e-b42b-48947c21f16c",
   "metadata": {},
   "outputs": [
    {
     "data": {
      "text/plain": [
       "np.float64(2.5)"
      ]
     },
     "execution_count": 6,
     "metadata": {},
     "output_type": "execute_result"
    }
   ],
   "source": [
    "np.round(a,1)"
   ]
  },
  {
   "cell_type": "code",
   "execution_count": 9,
   "id": "77a25570-189f-4f61-93ca-3f80060af575",
   "metadata": {},
   "outputs": [
    {
     "data": {
      "text/plain": [
       "array([ 1.44, 13.14,  4.09])"
      ]
     },
     "execution_count": 9,
     "metadata": {},
     "output_type": "execute_result"
    }
   ],
   "source": [
    "array = np.array([1.435, 13.1435, 4.0916])\n",
    "np.round(array,2)"
   ]
  },
  {
   "cell_type": "code",
   "execution_count": 10,
   "id": "f2cfcaed-7894-4353-ad89-5f5c33725a0f",
   "metadata": {},
   "outputs": [
    {
     "data": {
      "text/plain": [
       "array([ 1., 13.,  4.])"
      ]
     },
     "execution_count": 10,
     "metadata": {},
     "output_type": "execute_result"
    }
   ],
   "source": [
    "np.floor(array)"
   ]
  },
  {
   "cell_type": "code",
   "execution_count": 11,
   "id": "d39afdaa-f24a-49f2-a42e-97f560e75f75",
   "metadata": {},
   "outputs": [
    {
     "data": {
      "text/plain": [
       "array([ 2., 14.,  5.])"
      ]
     },
     "execution_count": 11,
     "metadata": {},
     "output_type": "execute_result"
    }
   ],
   "source": [
    "np.ceil(array)"
   ]
  },
  {
   "cell_type": "code",
   "execution_count": 12,
   "id": "6b30198d-9e0e-4a37-aa3c-a3f8bd5b3d41",
   "metadata": {},
   "outputs": [],
   "source": [
    "### Sumas y productos"
   ]
  },
  {
   "cell_type": "code",
   "execution_count": 13,
   "id": "b94cd049-a4fa-406a-a04c-771a248623fb",
   "metadata": {},
   "outputs": [
    {
     "data": {
      "text/plain": [
       "np.int64(24)"
      ]
     },
     "execution_count": 13,
     "metadata": {},
     "output_type": "execute_result"
    }
   ],
   "source": [
    "b = np.array([2,3,4])\n",
    "np.prod(b)"
   ]
  },
  {
   "cell_type": "code",
   "execution_count": 15,
   "id": "f5872bad-cae2-41a4-9a35-61505441160c",
   "metadata": {},
   "outputs": [
    {
     "data": {
      "text/plain": [
       "array([4, 6, 8])"
      ]
     },
     "execution_count": 15,
     "metadata": {},
     "output_type": "execute_result"
    }
   ],
   "source": [
    "b = np.array([[2,3,4],[2,2,2]])\n",
    "np.prod(b, axis = 0)"
   ]
  },
  {
   "cell_type": "code",
   "execution_count": 16,
   "id": "d822b4af-9b4a-4b7d-aa3a-ca7e8622c836",
   "metadata": {},
   "outputs": [
    {
     "data": {
      "text/plain": [
       "array([24,  8])"
      ]
     },
     "execution_count": 16,
     "metadata": {},
     "output_type": "execute_result"
    }
   ],
   "source": [
    "np.prod(b, axis = 1)"
   ]
  },
  {
   "cell_type": "code",
   "execution_count": 18,
   "id": "9ae921d7-5e44-4353-aa1b-eda225e0566a",
   "metadata": {},
   "outputs": [
    {
     "data": {
      "text/plain": [
       "array([4, 5, 6])"
      ]
     },
     "execution_count": 18,
     "metadata": {},
     "output_type": "execute_result"
    }
   ],
   "source": [
    "np.sum(b, axis = 0)"
   ]
  },
  {
   "cell_type": "code",
   "execution_count": 19,
   "id": "b7ca3197-5d3f-44ee-8225-62636cd49bd9",
   "metadata": {},
   "outputs": [
    {
     "data": {
      "text/plain": [
       "array([9, 6])"
      ]
     },
     "execution_count": 19,
     "metadata": {},
     "output_type": "execute_result"
    }
   ],
   "source": [
    "np.sum(b, axis = 1)"
   ]
  },
  {
   "cell_type": "code",
   "execution_count": 20,
   "id": "32c1c46d-c67d-4ea5-82e9-d4bbeb127887",
   "metadata": {},
   "outputs": [],
   "source": [
    "### Exponentes y logaritmos"
   ]
  },
  {
   "cell_type": "code",
   "execution_count": 21,
   "id": "fd29bd57-1406-4ab9-b43e-162dbcbb31d9",
   "metadata": {},
   "outputs": [
    {
     "data": {
      "text/plain": [
       "array([[ 7.3890561 , 20.08553692, 54.59815003],\n",
       "       [ 7.3890561 ,  7.3890561 ,  7.3890561 ]])"
      ]
     },
     "execution_count": 21,
     "metadata": {},
     "output_type": "execute_result"
    }
   ],
   "source": [
    "np.exp(b)"
   ]
  },
  {
   "cell_type": "code",
   "execution_count": 22,
   "id": "4590e095-3272-4f09-b607-7c9f69b2eb1c",
   "metadata": {},
   "outputs": [
    {
     "data": {
      "text/plain": [
       "array([[ 7.3890561 , 20.08553692, 54.59815003],\n",
       "       [ 7.3890561 ,  7.3890561 ,  7.3890561 ]])"
      ]
     },
     "execution_count": 22,
     "metadata": {},
     "output_type": "execute_result"
    }
   ],
   "source": [
    "np.power(np.e, b)"
   ]
  },
  {
   "cell_type": "code",
   "execution_count": 24,
   "id": "5633106b-a2a3-49ad-9853-86dabc2a6a28",
   "metadata": {},
   "outputs": [
    {
     "data": {
      "text/plain": [
       "array([[2., 3., 4.],\n",
       "       [2., 2., 2.]])"
      ]
     },
     "execution_count": 24,
     "metadata": {},
     "output_type": "execute_result"
    }
   ],
   "source": [
    "p = np.power(np.e, b)\n",
    "np.log(p)"
   ]
  },
  {
   "cell_type": "code",
   "execution_count": 25,
   "id": "15c4f117-0415-4de7-8763-2587c9ac850c",
   "metadata": {},
   "outputs": [
    {
     "data": {
      "text/plain": [
       "array([[1.       , 1.5849625, 2.       ],\n",
       "       [1.       , 1.       , 1.       ]])"
      ]
     },
     "execution_count": 25,
     "metadata": {},
     "output_type": "execute_result"
    }
   ],
   "source": [
    "np.log2(b)"
   ]
  },
  {
   "cell_type": "code",
   "execution_count": 26,
   "id": "4f953ab2-960c-44e1-a20f-525fdebde940",
   "metadata": {},
   "outputs": [
    {
     "data": {
      "text/plain": [
       "array([[0.30103   , 0.47712125, 0.60205999],\n",
       "       [0.30103   , 0.30103   , 0.30103   ]])"
      ]
     },
     "execution_count": 26,
     "metadata": {},
     "output_type": "execute_result"
    }
   ],
   "source": [
    "np.log10(b)"
   ]
  },
  {
   "cell_type": "code",
   "execution_count": 27,
   "id": "1a9f67be-7854-4ca3-9242-e414f5611234",
   "metadata": {},
   "outputs": [
    {
     "name": "stderr",
     "output_type": "stream",
     "text": [
      "C:\\Users\\P1r7h4xX\\AppData\\Local\\Temp\\ipykernel_14176\\2933082444.py:1: RuntimeWarning: divide by zero encountered in log\n",
      "  np.log(0)\n"
     ]
    },
    {
     "data": {
      "text/plain": [
       "np.float64(-inf)"
      ]
     },
     "execution_count": 27,
     "metadata": {},
     "output_type": "execute_result"
    }
   ],
   "source": [
    "np.log(0)"
   ]
  },
  {
   "cell_type": "code",
   "execution_count": 28,
   "id": "3e04eb41-0c9b-40ae-bd2f-cc3c653deddf",
   "metadata": {},
   "outputs": [],
   "source": [
    "### Operaciones aritméticas"
   ]
  },
  {
   "cell_type": "code",
   "execution_count": 30,
   "id": "b7f83654-a4e3-491f-89e6-16990dc33f20",
   "metadata": {},
   "outputs": [
    {
     "data": {
      "text/plain": [
       "array([[5, 5, 5, 5],\n",
       "       [8, 6, 4, 2]])"
      ]
     },
     "execution_count": 30,
     "metadata": {},
     "output_type": "execute_result"
    }
   ],
   "source": [
    "a = np.array([[1,2,3,4], [4,3,2,1]])\n",
    "b = np.array([4,3,2,1])\n",
    "np.add(a,b)"
   ]
  },
  {
   "cell_type": "code",
   "execution_count": 31,
   "id": "aabb4ddc-40f9-49e1-8353-24f20dd93509",
   "metadata": {},
   "outputs": [
    {
     "data": {
      "text/plain": [
       "array([[-3, -1,  1,  3],\n",
       "       [ 0,  0,  0,  0]])"
      ]
     },
     "execution_count": 31,
     "metadata": {},
     "output_type": "execute_result"
    }
   ],
   "source": [
    "np.subtract(a,b)"
   ]
  },
  {
   "cell_type": "code",
   "execution_count": 32,
   "id": "ebee263f-b7e4-41b9-84b3-f3fda1949860",
   "metadata": {},
   "outputs": [
    {
     "data": {
      "text/plain": [
       "array([[0.25      , 0.66666667, 1.5       , 4.        ],\n",
       "       [1.        , 1.        , 1.        , 1.        ]])"
      ]
     },
     "execution_count": 32,
     "metadata": {},
     "output_type": "execute_result"
    }
   ],
   "source": [
    "np.divide(a,b)"
   ]
  },
  {
   "cell_type": "code",
   "execution_count": null,
   "id": "0b04929c-3afa-4a36-9d03-065cf445c7e3",
   "metadata": {},
   "outputs": [],
   "source": []
  }
 ],
 "metadata": {
  "kernelspec": {
   "display_name": "Python 3 (ipykernel)",
   "language": "python",
   "name": "python3"
  },
  "language_info": {
   "codemirror_mode": {
    "name": "ipython",
    "version": 3
   },
   "file_extension": ".py",
   "mimetype": "text/x-python",
   "name": "python",
   "nbconvert_exporter": "python",
   "pygments_lexer": "ipython3",
   "version": "3.10.16"
  }
 },
 "nbformat": 4,
 "nbformat_minor": 5
}
