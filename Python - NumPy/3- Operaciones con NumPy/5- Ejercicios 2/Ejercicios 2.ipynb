{
 "cells": [
  {
   "cell_type": "code",
   "execution_count": 1,
   "id": "1a554793-1767-4c2f-9ff0-1c170b98e53c",
   "metadata": {},
   "outputs": [],
   "source": [
    "import numpy as np"
   ]
  },
  {
   "cell_type": "code",
   "execution_count": null,
   "id": "b0403fdd-e9b4-474b-ae0b-7ddce579c638",
   "metadata": {},
   "outputs": [],
   "source": [
    "### Ejercicio 1"
   ]
  },
  {
   "cell_type": "code",
   "execution_count": null,
   "id": "da0511c6-a8da-495a-99b5-67896aa8396c",
   "metadata": {},
   "outputs": [],
   "source": [
    "'''\n",
    "Genera un array que contenga 25 elementos entre 0 y 99 siguiendo una distribución lineal. Luego transforma ese array en una matriz 5x5. \n",
    "¿Cuál es la diagonal de la matriz? ¿Y la diagonal justo superior?'''"
   ]
  },
  {
   "cell_type": "code",
   "execution_count": 48,
   "id": "3dbfd596-3800-4063-aed6-19c47b796581",
   "metadata": {},
   "outputs": [
    {
     "data": {
      "text/plain": [
       "array([ 0.,  4.,  8., 12., 16., 20., 24., 28., 32., 36., 40., 44., 48.,\n",
       "       52., 56., 60., 64., 68., 72., 76., 80., 84., 88., 92., 96.])"
      ]
     },
     "execution_count": 48,
     "metadata": {},
     "output_type": "execute_result"
    }
   ],
   "source": [
    "a = np.linspace(start=0, stop=100, num=25, endpoint=False)\n",
    "a"
   ]
  },
  {
   "cell_type": "code",
   "execution_count": 49,
   "id": "5afaf385-2713-4c5e-8f8f-dd7f8a0cfd1a",
   "metadata": {},
   "outputs": [
    {
     "data": {
      "text/plain": [
       "array([[ 0.,  4.,  8., 12., 16.],\n",
       "       [20., 24., 28., 32., 36.],\n",
       "       [40., 44., 48., 52., 56.],\n",
       "       [60., 64., 68., 72., 76.],\n",
       "       [80., 84., 88., 92., 96.]])"
      ]
     },
     "execution_count": 49,
     "metadata": {},
     "output_type": "execute_result"
    }
   ],
   "source": [
    "m = a.reshape(5,5)\n",
    "m"
   ]
  },
  {
   "cell_type": "code",
   "execution_count": 51,
   "id": "8655b5d3-1fa4-455e-8f2e-e6da379a871e",
   "metadata": {},
   "outputs": [
    {
     "data": {
      "text/plain": [
       "array([ 0., 24., 48., 72., 96.])"
      ]
     },
     "execution_count": 51,
     "metadata": {},
     "output_type": "execute_result"
    }
   ],
   "source": [
    "np.diag(m)"
   ]
  },
  {
   "cell_type": "code",
   "execution_count": 54,
   "id": "508f9038-78be-46ea-80a5-fd862b0ad59b",
   "metadata": {},
   "outputs": [
    {
     "data": {
      "text/plain": [
       "array([ 4., 28., 52., 76.])"
      ]
     },
     "execution_count": 54,
     "metadata": {},
     "output_type": "execute_result"
    }
   ],
   "source": [
    "np.diag(m, k = 1)"
   ]
  },
  {
   "cell_type": "code",
   "execution_count": null,
   "id": "878b8251-c201-4119-b911-e4f4823e4afd",
   "metadata": {},
   "outputs": [],
   "source": [
    "#Ejercicio 2"
   ]
  },
  {
   "cell_type": "code",
   "execution_count": null,
   "id": "5d69d013-1389-4f00-a7cd-567fce5097a7",
   "metadata": {},
   "outputs": [],
   "source": [
    "'''\n",
    "Crea un array de 4x5 con el valor repetido 5. Une esa matriz a la anteior para conseguir 2 nuevas matrices, una de 5x9 y otra de 9x5.\n",
    "'''"
   ]
  },
  {
   "cell_type": "code",
   "execution_count": 56,
   "id": "588b43c0-7312-4ada-835b-591c5793829c",
   "metadata": {},
   "outputs": [
    {
     "data": {
      "text/plain": [
       "array([[5, 5, 5, 5, 5],\n",
       "       [5, 5, 5, 5, 5],\n",
       "       [5, 5, 5, 5, 5],\n",
       "       [5, 5, 5, 5, 5]])"
      ]
     },
     "execution_count": 56,
     "metadata": {},
     "output_type": "execute_result"
    }
   ],
   "source": [
    "m2 = np.full(shape=(4,5), fill_value=5)\n",
    "m2"
   ]
  },
  {
   "cell_type": "code",
   "execution_count": 62,
   "id": "cbfaa970-7449-4330-88ce-dde31f5e9750",
   "metadata": {},
   "outputs": [
    {
     "data": {
      "text/plain": [
       "array([[ 0.,  4.,  8., 12., 16.],\n",
       "       [20., 24., 28., 32., 36.],\n",
       "       [40., 44., 48., 52., 56.],\n",
       "       [60., 64., 68., 72., 76.],\n",
       "       [80., 84., 88., 92., 96.],\n",
       "       [ 5.,  5.,  5.,  5.,  5.],\n",
       "       [ 5.,  5.,  5.,  5.,  5.],\n",
       "       [ 5.,  5.,  5.,  5.,  5.],\n",
       "       [ 5.,  5.,  5.,  5.,  5.]])"
      ]
     },
     "execution_count": 62,
     "metadata": {},
     "output_type": "execute_result"
    }
   ],
   "source": [
    "m3 = np.concatenate((m,m2), axis=0)\n",
    "m3"
   ]
  },
  {
   "cell_type": "code",
   "execution_count": 69,
   "id": "5886d277-c8d2-43c9-a384-f1a9f3501936",
   "metadata": {},
   "outputs": [
    {
     "data": {
      "text/plain": [
       "array([[ 0.,  4.,  8., 12., 16.,  5.,  5.,  5.,  5.],\n",
       "       [20., 24., 28., 32., 36.,  5.,  5.,  5.,  5.],\n",
       "       [40., 44., 48., 52., 56.,  5.,  5.,  5.,  5.],\n",
       "       [60., 64., 68., 72., 76.,  5.,  5.,  5.,  5.],\n",
       "       [80., 84., 88., 92., 96.,  5.,  5.,  5.,  5.]])"
      ]
     },
     "execution_count": 69,
     "metadata": {},
     "output_type": "execute_result"
    }
   ],
   "source": [
    "m4 = np.concatenate((m,m2.T), axis=1)\n",
    "m4"
   ]
  },
  {
   "cell_type": "code",
   "execution_count": null,
   "id": "b339afea-449e-4bde-a6ac-ede535d81725",
   "metadata": {},
   "outputs": [],
   "source": [
    "#Ejercicio 3"
   ]
  },
  {
   "cell_type": "code",
   "execution_count": null,
   "id": "02a8817b-eb6e-42e5-af2c-3756c7bd2cac",
   "metadata": {},
   "outputs": [],
   "source": [
    "'''\n",
    "Teniendo el array inicial, se deben realizar las operaciones necesarias para obtener el array:\n",
    "- array(['Este', 'Es', 'Un', 'Curso', 'De', 'Open', 'Webinars'], dtype='U12')\n",
    "¿Que elementos del array comienzan por E?'''"
   ]
  },
  {
   "cell_type": "code",
   "execution_count": 143,
   "id": "6ba14af8-5cfa-4ef0-9aa6-d88eddc31b4a",
   "metadata": {},
   "outputs": [
    {
     "data": {
      "text/plain": [
       "array(['        este es un curso de openwebinars '], dtype='<U41')"
      ]
     },
     "execution_count": 143,
     "metadata": {},
     "output_type": "execute_result"
    }
   ],
   "source": [
    "a = np.array(['        este es un curso de openwebinars       '], dtype='<U41')\n",
    "a"
   ]
  },
  {
   "cell_type": "code",
   "execution_count": 144,
   "id": "b1686c01-b4f6-4093-a6fc-c2428d083c49",
   "metadata": {},
   "outputs": [
    {
     "data": {
      "text/plain": [
       "array(['este es un curso de openwebinars'], dtype='<U41')"
      ]
     },
     "execution_count": 144,
     "metadata": {},
     "output_type": "execute_result"
    }
   ],
   "source": [
    "a1 = np.char.strip(a)\n",
    "a1"
   ]
  },
  {
   "cell_type": "code",
   "execution_count": 147,
   "id": "007c0348-6e66-4592-9a69-65d44fb6f624",
   "metadata": {},
   "outputs": [
    {
     "data": {
      "text/plain": [
       "array(['este', 'es', 'un', 'curso', 'de', 'openwebinars'], dtype='<U12')"
      ]
     },
     "execution_count": 147,
     "metadata": {},
     "output_type": "execute_result"
    }
   ],
   "source": [
    "a2 = np.char.split(a1,sep=' ')\n",
    "a2 = np.array(a2[0])\n",
    "a2"
   ]
  },
  {
   "cell_type": "code",
   "execution_count": 148,
   "id": "3b2be707-e1cc-4002-8336-9d000e7bae26",
   "metadata": {},
   "outputs": [
    {
     "data": {
      "text/plain": [
       "array(['Este', 'Es', 'Un', 'Curso', 'De', 'Openwebinars'], dtype='<U12')"
      ]
     },
     "execution_count": 148,
     "metadata": {},
     "output_type": "execute_result"
    }
   ],
   "source": [
    "a3 = np.char.capitalize(a2)\n",
    "a3"
   ]
  },
  {
   "cell_type": "code",
   "execution_count": 159,
   "id": "c601b50f-ab9f-4f88-8e70-3d3d542ce029",
   "metadata": {},
   "outputs": [
    {
     "data": {
      "text/plain": [
       "array(['Este', 'Es'], dtype='<U12')"
      ]
     },
     "execution_count": 159,
     "metadata": {},
     "output_type": "execute_result"
    }
   ],
   "source": [
    "e = np.char.startswith(a3, prefix='E')\n",
    "a3[e]"
   ]
  },
  {
   "cell_type": "code",
   "execution_count": null,
   "id": "f6c3dcb1-a34b-43e7-8b86-5acbd208e427",
   "metadata": {},
   "outputs": [],
   "source": [
    "#Ejercicio 4"
   ]
  },
  {
   "cell_type": "code",
   "execution_count": null,
   "id": "e31ebfb3-bc7a-4635-9ec4-36d6ecfeb886",
   "metadata": {},
   "outputs": [],
   "source": [
    "'''\n",
    "Considerando las matrices A y B:\n",
    "- Realiza la multiplicación matricial de AxB y BxA ¿Son iguales?\n",
    "- Realiza la pmultiplicación de la matriz Ax2\n",
    "- ¿Cuánto es la multiplicación escalar de AxB?¿Y de BxA?'''"
   ]
  },
  {
   "cell_type": "code",
   "execution_count": 171,
   "id": "e2620927-115a-41aa-af91-3e94f62aa3d5",
   "metadata": {},
   "outputs": [],
   "source": [
    "A = np.array([[3,1,2],[4,1,3],[2,0,1]])\n",
    "B = np.array([[2,0,3],[1,1,1],[0,2,4]])"
   ]
  },
  {
   "cell_type": "code",
   "execution_count": 172,
   "id": "d678f72e-17e5-4427-992d-d98c449813d9",
   "metadata": {},
   "outputs": [
    {
     "data": {
      "text/plain": [
       "array([[ 7,  5, 18],\n",
       "       [ 9,  7, 25],\n",
       "       [ 4,  2, 10]])"
      ]
     },
     "execution_count": 172,
     "metadata": {},
     "output_type": "execute_result"
    }
   ],
   "source": [
    "mult = np.dot(A,B)\n",
    "mult"
   ]
  },
  {
   "cell_type": "code",
   "execution_count": 173,
   "id": "5f85e171-e97e-4757-b811-823e4c8fff79",
   "metadata": {},
   "outputs": [
    {
     "data": {
      "text/plain": [
       "array([[12,  2,  7],\n",
       "       [ 9,  2,  6],\n",
       "       [16,  2, 10]])"
      ]
     },
     "execution_count": 173,
     "metadata": {},
     "output_type": "execute_result"
    }
   ],
   "source": [
    "mult_inv = np.dot(B,A)\n",
    "mult_inv"
   ]
  },
  {
   "cell_type": "code",
   "execution_count": 174,
   "id": "f9bd8170-4003-4c10-a9cc-7406adca8362",
   "metadata": {},
   "outputs": [
    {
     "data": {
      "text/plain": [
       "array([[6, 2, 4],\n",
       "       [8, 2, 6],\n",
       "       [4, 0, 2]])"
      ]
     },
     "execution_count": 174,
     "metadata": {},
     "output_type": "execute_result"
    }
   ],
   "source": [
    "dos = np.dot(A,2)\n",
    "dos"
   ]
  },
  {
   "cell_type": "code",
   "execution_count": 175,
   "id": "b1980adf-8aa8-43a8-b453-da26eba64b71",
   "metadata": {},
   "outputs": [
    {
     "data": {
      "text/plain": [
       "np.int64(24)"
      ]
     },
     "execution_count": 175,
     "metadata": {},
     "output_type": "execute_result"
    }
   ],
   "source": [
    "esc1 = np.vdot(A,B)\n",
    "esc1"
   ]
  },
  {
   "cell_type": "code",
   "execution_count": 176,
   "id": "f7eb220a-9979-412d-a69f-3740ee4df7fe",
   "metadata": {},
   "outputs": [
    {
     "data": {
      "text/plain": [
       "np.int64(24)"
      ]
     },
     "execution_count": 176,
     "metadata": {},
     "output_type": "execute_result"
    }
   ],
   "source": [
    "esc2 = np.vdot(B,A)\n",
    "esc2"
   ]
  },
  {
   "cell_type": "code",
   "execution_count": null,
   "id": "ebf40ad5-8791-4f5b-b1b4-fc056d649d30",
   "metadata": {},
   "outputs": [],
   "source": [
    "#Ejercicio 5"
   ]
  },
  {
   "cell_type": "code",
   "execution_count": null,
   "id": "88617c43-441e-4247-8035-ece7a4c637c5",
   "metadata": {},
   "outputs": [],
   "source": [
    "'''\n",
    "Usando la matriz A:\n",
    "- A^3\n",
    "- Determinante de A\n",
    "- Resolver la ecuación Ax = y, siendo y [3,2,5]'''"
   ]
  },
  {
   "cell_type": "code",
   "execution_count": 180,
   "id": "8f666bd9-f7d0-4f1e-92d1-6baa67ccbbd9",
   "metadata": {},
   "outputs": [
    {
     "data": {
      "text/plain": [
       "array([[ 89,  21,  57],\n",
       "       [114,  27,  73],\n",
       "       [ 42,  10,  27]])"
      ]
     },
     "execution_count": 180,
     "metadata": {},
     "output_type": "execute_result"
    }
   ],
   "source": [
    "cubo = np.linalg.matrix_power(A,3)\n",
    "cubo"
   ]
  },
  {
   "cell_type": "code",
   "execution_count": 178,
   "id": "500111d8-169a-465e-9493-a5412e10c7c9",
   "metadata": {},
   "outputs": [
    {
     "data": {
      "text/plain": [
       "np.float64(1.0)"
      ]
     },
     "execution_count": 178,
     "metadata": {},
     "output_type": "execute_result"
    }
   ],
   "source": [
    "det = np.linalg.det(A)\n",
    "det"
   ]
  },
  {
   "cell_type": "code",
   "execution_count": 179,
   "id": "0dab75f5-1830-431e-a85c-5259a1a9a7a0",
   "metadata": {},
   "outputs": [
    {
     "data": {
      "text/plain": [
       "array([ 6., -1., -7.])"
      ]
     },
     "execution_count": 179,
     "metadata": {},
     "output_type": "execute_result"
    }
   ],
   "source": [
    "y = np.array([3,2,5])\n",
    "ecu = np.linalg.solve(A,y)\n",
    "ecu"
   ]
  }
 ],
 "metadata": {
  "kernelspec": {
   "display_name": "Python 3 (ipykernel)",
   "language": "python",
   "name": "python3"
  },
  "language_info": {
   "codemirror_mode": {
    "name": "ipython",
    "version": 3
   },
   "file_extension": ".py",
   "mimetype": "text/x-python",
   "name": "python",
   "nbconvert_exporter": "python",
   "pygments_lexer": "ipython3",
   "version": "3.10.16"
  }
 },
 "nbformat": 4,
 "nbformat_minor": 5
}
