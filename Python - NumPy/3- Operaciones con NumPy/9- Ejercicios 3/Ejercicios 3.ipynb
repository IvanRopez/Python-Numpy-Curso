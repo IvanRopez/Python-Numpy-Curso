{
 "cells": [
  {
   "cell_type": "code",
   "execution_count": 1,
   "id": "0f521fa3-922e-48ed-8838-552e56bb159f",
   "metadata": {},
   "outputs": [],
   "source": [
    "import numpy as np"
   ]
  },
  {
   "cell_type": "code",
   "execution_count": 2,
   "id": "3bba68fc-6697-4974-beaf-9110dbd2df69",
   "metadata": {},
   "outputs": [],
   "source": [
    "#Ejercicio 1"
   ]
  },
  {
   "cell_type": "code",
   "execution_count": null,
   "id": "2ffe25b2-6ac8-4fe8-a292-14ac424fd26a",
   "metadata": {},
   "outputs": [],
   "source": [
    "'''\n",
    "Usando el array a continuación:\n",
    "- ¿Hay algún valor múltiplo de 7?\n",
    "- Devuelve un array con todos los nº menores de 40 o múltiplos de 7?'''"
   ]
  },
  {
   "cell_type": "code",
   "execution_count": 4,
   "id": "1b656351-9877-4c65-bb0a-bed0d101972a",
   "metadata": {},
   "outputs": [
    {
     "data": {
      "text/plain": [
       "array([  2,   5,   4,   2,  49,  34,  59,  21,  45,   6, 105])"
      ]
     },
     "execution_count": 4,
     "metadata": {},
     "output_type": "execute_result"
    }
   ],
   "source": [
    "a = np.array([2,5,4,2,49,34,59,21,45,6,105])\n",
    "a"
   ]
  },
  {
   "cell_type": "code",
   "execution_count": 6,
   "id": "f728ba4b-a037-486d-94ad-c745be093b11",
   "metadata": {},
   "outputs": [
    {
     "data": {
      "text/plain": [
       "array([ 49,  21, 105])"
      ]
     },
     "execution_count": 6,
     "metadata": {},
     "output_type": "execute_result"
    }
   ],
   "source": [
    "mult7 = a % 7 == 0\n",
    "a[mult7]"
   ]
  },
  {
   "cell_type": "code",
   "execution_count": 21,
   "id": "4e74e48e-dbb6-4328-98d9-e16607039f59",
   "metadata": {},
   "outputs": [
    {
     "data": {
      "text/plain": [
       "array([  2,   5,   4,   2,  49,  34,  21,   6, 105])"
      ]
     },
     "execution_count": 21,
     "metadata": {},
     "output_type": "execute_result"
    }
   ],
   "source": [
    "menores = np.logical_or(a < 40, mult7)\n",
    "res = a[menores]\n",
    "res"
   ]
  },
  {
   "cell_type": "code",
   "execution_count": 13,
   "id": "ec913ede-72e8-4999-a080-3d40b7021d11",
   "metadata": {},
   "outputs": [],
   "source": [
    "# Ejercicio 2"
   ]
  },
  {
   "cell_type": "code",
   "execution_count": null,
   "id": "9e869239-8d69-4c4e-ae68-f9d6c12b073e",
   "metadata": {},
   "outputs": [],
   "source": [
    "'''\n",
    "Usando el array anterior:\n",
    "- Producto de todos los valores\n",
    "- Convierte el array en una matriz 3x3 y realiza la suma por filas\n",
    "- Calcula el log10 de cada elemento de la matriz que acabas de crear'''"
   ]
  },
  {
   "cell_type": "code",
   "execution_count": 22,
   "id": "9690aaa2-cc30-453f-b662-812906ef97f8",
   "metadata": {},
   "outputs": [
    {
     "data": {
      "text/plain": [
       "array([  2,   5,   4,   2,  49,  34,  21,   6, 105])"
      ]
     },
     "execution_count": 22,
     "metadata": {},
     "output_type": "execute_result"
    }
   ],
   "source": [
    "res"
   ]
  },
  {
   "cell_type": "code",
   "execution_count": 23,
   "id": "20995d75-5320-4874-b47e-77d28a3d476f",
   "metadata": {},
   "outputs": [
    {
     "data": {
      "text/plain": [
       "np.int64(1763294400)"
      ]
     },
     "execution_count": 23,
     "metadata": {},
     "output_type": "execute_result"
    }
   ],
   "source": [
    "prod = np.prod(res)\n",
    "prod"
   ]
  },
  {
   "cell_type": "code",
   "execution_count": 25,
   "id": "c9f9a6a3-9fd4-4db3-b26e-e2561c967423",
   "metadata": {},
   "outputs": [
    {
     "data": {
      "text/plain": [
       "array([[  2,   5,   4],\n",
       "       [  2,  49,  34],\n",
       "       [ 21,   6, 105]])"
      ]
     },
     "execution_count": 25,
     "metadata": {},
     "output_type": "execute_result"
    }
   ],
   "source": [
    "b = res.reshape(3,3)\n",
    "b"
   ]
  },
  {
   "cell_type": "code",
   "execution_count": 32,
   "id": "d07f44df-651c-4be9-9f5c-558df9b223aa",
   "metadata": {},
   "outputs": [
    {
     "data": {
      "text/plain": [
       "array([ 11,  85, 132])"
      ]
     },
     "execution_count": 32,
     "metadata": {},
     "output_type": "execute_result"
    }
   ],
   "source": [
    "suma = np.sum(b, axis=1)\n",
    "suma"
   ]
  },
  {
   "cell_type": "code",
   "execution_count": 34,
   "id": "ae874aff-ee50-4c53-bfb8-0fdea416106f",
   "metadata": {},
   "outputs": [
    {
     "data": {
      "text/plain": [
       "array([[0.30103   , 0.69897   , 0.60205999],\n",
       "       [0.30103   , 1.69019608, 1.53147892],\n",
       "       [1.32221929, 0.77815125, 2.0211893 ]])"
      ]
     },
     "execution_count": 34,
     "metadata": {},
     "output_type": "execute_result"
    }
   ],
   "source": [
    "np.log10(b)"
   ]
  },
  {
   "cell_type": "code",
   "execution_count": null,
   "id": "f1e36b1e-39eb-46d8-9f21-e30eff92350d",
   "metadata": {},
   "outputs": [],
   "source": [
    "# Ejercicio 3"
   ]
  },
  {
   "cell_type": "code",
   "execution_count": null,
   "id": "8e7ebb6c-8e5d-4338-bba1-21d5c151a126",
   "metadata": {},
   "outputs": [],
   "source": [
    "'''\n",
    "Usando la matriz anterior:\n",
    "- Suma de la matriz mas el vector\n",
    "- División de ambos, ¿qué ocurre? Modificar el valor raro por 0\n",
    "- Valos máximo de la matriz resultado de la división, ¿y por filas?, ¿y columnas?'''"
   ]
  },
  {
   "cell_type": "code",
   "execution_count": 35,
   "id": "c02a26ae-725c-410d-92df-7ea9a0a8449b",
   "metadata": {},
   "outputs": [
    {
     "data": {
      "text/plain": [
       "array([[  2,   5,   4],\n",
       "       [  2,  49,  34],\n",
       "       [ 21,   6, 105]])"
      ]
     },
     "execution_count": 35,
     "metadata": {},
     "output_type": "execute_result"
    }
   ],
   "source": [
    "b"
   ]
  },
  {
   "cell_type": "code",
   "execution_count": 36,
   "id": "0bee8aa0-6162-4c54-b51c-3d054aabb8ad",
   "metadata": {},
   "outputs": [
    {
     "data": {
      "text/plain": [
       "array([0, 3, 5])"
      ]
     },
     "execution_count": 36,
     "metadata": {},
     "output_type": "execute_result"
    }
   ],
   "source": [
    "a = np.array([0,3,5])\n",
    "a"
   ]
  },
  {
   "cell_type": "code",
   "execution_count": 39,
   "id": "051d96f1-c35c-4559-8ecc-3fa7f3ee3a5e",
   "metadata": {},
   "outputs": [
    {
     "data": {
      "text/plain": [
       "array([[  2,   8,   9],\n",
       "       [  2,  52,  39],\n",
       "       [ 21,   9, 110]])"
      ]
     },
     "execution_count": 39,
     "metadata": {},
     "output_type": "execute_result"
    }
   ],
   "source": [
    "suma = np.add(b, a)\n",
    "suma"
   ]
  },
  {
   "cell_type": "code",
   "execution_count": 42,
   "id": "64533a68-1521-4cb0-8cda-f9c46cbad94d",
   "metadata": {},
   "outputs": [
    {
     "name": "stderr",
     "output_type": "stream",
     "text": [
      "C:\\Users\\P1r7h4xX\\AppData\\Local\\Temp\\ipykernel_21712\\4166734561.py:1: RuntimeWarning: divide by zero encountered in divide\n",
      "  div = np.divide(suma, a)\n"
     ]
    },
    {
     "data": {
      "text/plain": [
       "array([[        inf,  2.66666667,  1.8       ],\n",
       "       [        inf, 17.33333333,  7.8       ],\n",
       "       [        inf,  3.        , 22.        ]])"
      ]
     },
     "execution_count": 42,
     "metadata": {},
     "output_type": "execute_result"
    }
   ],
   "source": [
    "div = np.divide(suma, a)\n",
    "div"
   ]
  },
  {
   "cell_type": "code",
   "execution_count": 46,
   "id": "a33b90a5-1916-4cdb-a6f7-f128c32d37c4",
   "metadata": {},
   "outputs": [
    {
     "data": {
      "text/plain": [
       "array([[ 0.        ,  2.66666667,  1.8       ],\n",
       "       [ 0.        , 17.33333333,  7.8       ],\n",
       "       [ 0.        ,  3.        , 22.        ]])"
      ]
     },
     "execution_count": 46,
     "metadata": {},
     "output_type": "execute_result"
    }
   ],
   "source": [
    "for i in div:\n",
    "    i[0] = 0\n",
    "div"
   ]
  },
  {
   "cell_type": "code",
   "execution_count": 47,
   "id": "2fcd54a1-b778-46b6-8129-fe239e1ce938",
   "metadata": {},
   "outputs": [
    {
     "data": {
      "text/plain": [
       "np.float64(22.0)"
      ]
     },
     "execution_count": 47,
     "metadata": {},
     "output_type": "execute_result"
    }
   ],
   "source": [
    "np.max(div)"
   ]
  },
  {
   "cell_type": "code",
   "execution_count": 48,
   "id": "bbf15936-66cb-4c5a-a1e0-4cc20458dec5",
   "metadata": {},
   "outputs": [
    {
     "data": {
      "text/plain": [
       "array([ 0.        , 17.33333333, 22.        ])"
      ]
     },
     "execution_count": 48,
     "metadata": {},
     "output_type": "execute_result"
    }
   ],
   "source": [
    "np.max(div, axis = 0)"
   ]
  },
  {
   "cell_type": "code",
   "execution_count": 49,
   "id": "200f0f2a-b947-444d-9566-a78e43fe3d5c",
   "metadata": {},
   "outputs": [
    {
     "data": {
      "text/plain": [
       "array([ 2.66666667, 17.33333333, 22.        ])"
      ]
     },
     "execution_count": 49,
     "metadata": {},
     "output_type": "execute_result"
    }
   ],
   "source": [
    "np.max(div, axis = 1)"
   ]
  },
  {
   "cell_type": "code",
   "execution_count": 50,
   "id": "25a6359d-ed59-47a0-8c13-4fcd18e3e47d",
   "metadata": {},
   "outputs": [],
   "source": [
    "#Ejercicio 4"
   ]
  },
  {
   "cell_type": "code",
   "execution_count": null,
   "id": "6b34854d-c112-4c66-b4b8-9a4f51769076",
   "metadata": {},
   "outputs": [],
   "source": [
    "'''\n",
    "Calcular:\n",
    "- Media y mediana\n",
    "- Valor del 3er cuartil\n",
    "- Valor del percentil 25 y 50. ¿Con qué valor coincide este último?\n",
    "- Desviación estándar y varianza'''"
   ]
  },
  {
   "cell_type": "code",
   "execution_count": 51,
   "id": "08776420-ad96-4d2c-afe9-1911537f2b12",
   "metadata": {},
   "outputs": [
    {
     "data": {
      "text/plain": [
       "array([44, 28,  8, 34, 34, 26, 32, 12, 28,  6, 19, 12, 46, 20, 20, 49, 18,\n",
       "       10, 15, 15, 43,  3, 17, 33, 27, 10, 18,  2,  3,  3, 35, 35, 21, 17])"
      ]
     },
     "execution_count": 51,
     "metadata": {},
     "output_type": "execute_result"
    }
   ],
   "source": [
    "a = np.array([44, 28, 8, 34, 34, 26, 32, 12, 28, 6, 19, 12, 46, 20, 20, 49, 18,\n",
    "              10,15,15,43,3,17,33,27,10,18,2,3,3,35,35,21,17])\n",
    "a"
   ]
  },
  {
   "cell_type": "code",
   "execution_count": 55,
   "id": "d9b0eca2-7fd5-4940-bb0f-b537e9837e7d",
   "metadata": {},
   "outputs": [
    {
     "data": {
      "text/plain": [
       "np.float64(21.85)"
      ]
     },
     "execution_count": 55,
     "metadata": {},
     "output_type": "execute_result"
    }
   ],
   "source": [
    "media = np.mean(a)\n",
    "media = np.round(media,2)\n",
    "media"
   ]
  },
  {
   "cell_type": "code",
   "execution_count": 56,
   "id": "f0c35e68-d3f8-48f0-81d5-8e80b4332780",
   "metadata": {},
   "outputs": [
    {
     "data": {
      "text/plain": [
       "np.float64(19.5)"
      ]
     },
     "execution_count": 56,
     "metadata": {},
     "output_type": "execute_result"
    }
   ],
   "source": [
    "mediana = np.median(a)\n",
    "mediana"
   ]
  },
  {
   "cell_type": "code",
   "execution_count": 57,
   "id": "79a9bfc3-17e3-453c-8f5a-b164e37f470a",
   "metadata": {},
   "outputs": [
    {
     "data": {
      "text/plain": [
       "np.float64(32.75)"
      ]
     },
     "execution_count": 57,
     "metadata": {},
     "output_type": "execute_result"
    }
   ],
   "source": [
    "cuartil = np.quantile(a, q = 0.75)\n",
    "cuartil"
   ]
  },
  {
   "cell_type": "code",
   "execution_count": 59,
   "id": "9fcd197a-c35f-4522-93ab-b12aeb90dc11",
   "metadata": {},
   "outputs": [
    {
     "data": {
      "text/plain": [
       "np.float64(12.0)"
      ]
     },
     "execution_count": 59,
     "metadata": {},
     "output_type": "execute_result"
    }
   ],
   "source": [
    "percentil25 = np.percentile(a, q = 25)\n",
    "percentil25"
   ]
  },
  {
   "cell_type": "code",
   "execution_count": 60,
   "id": "95a1c4ea-7424-4b3f-b5d5-47935bb42e73",
   "metadata": {},
   "outputs": [
    {
     "data": {
      "text/plain": [
       "np.float64(19.5)"
      ]
     },
     "execution_count": 60,
     "metadata": {},
     "output_type": "execute_result"
    }
   ],
   "source": [
    "percentil50 = np.percentile(a, q = 50)\n",
    "percentil50"
   ]
  },
  {
   "cell_type": "code",
   "execution_count": 64,
   "id": "8d298881-6e50-4f5c-b2c8-e9009cc8ab67",
   "metadata": {},
   "outputs": [
    {
     "data": {
      "text/plain": [
       "np.float64(13.07)"
      ]
     },
     "execution_count": 64,
     "metadata": {},
     "output_type": "execute_result"
    }
   ],
   "source": [
    "de = np.std(a)\n",
    "de = np.round(de,2)\n",
    "de"
   ]
  },
  {
   "cell_type": "code",
   "execution_count": 66,
   "id": "9d85abe8-7726-4c1e-a118-c901fc76d0b1",
   "metadata": {},
   "outputs": [
    {
     "data": {
      "text/plain": [
       "np.float64(170.89)"
      ]
     },
     "execution_count": 66,
     "metadata": {},
     "output_type": "execute_result"
    }
   ],
   "source": [
    "var = np.var(a)\n",
    "var = np.round(var,2)\n",
    "var"
   ]
  },
  {
   "cell_type": "code",
   "execution_count": 70,
   "id": "96927c97-83de-4159-93c7-15d37e90594c",
   "metadata": {},
   "outputs": [
    {
     "data": {
      "text/plain": [
       "np.float64(13.07)"
      ]
     },
     "execution_count": 70,
     "metadata": {},
     "output_type": "execute_result"
    }
   ],
   "source": [
    "np.round(np.sqrt(np.var(a)),2) #La std es la raiz cuadrada de la var, por tanto:"
   ]
  },
  {
   "cell_type": "code",
   "execution_count": null,
   "id": "54dc87ae-44cf-4b0e-96d0-8fc4fb7047a7",
   "metadata": {},
   "outputs": [],
   "source": []
  }
 ],
 "metadata": {
  "kernelspec": {
   "display_name": "Python 3 (ipykernel)",
   "language": "python",
   "name": "python3"
  },
  "language_info": {
   "codemirror_mode": {
    "name": "ipython",
    "version": 3
   },
   "file_extension": ".py",
   "mimetype": "text/x-python",
   "name": "python",
   "nbconvert_exporter": "python",
   "pygments_lexer": "ipython3",
   "version": "3.10.16"
  }
 },
 "nbformat": 4,
 "nbformat_minor": 5
}
