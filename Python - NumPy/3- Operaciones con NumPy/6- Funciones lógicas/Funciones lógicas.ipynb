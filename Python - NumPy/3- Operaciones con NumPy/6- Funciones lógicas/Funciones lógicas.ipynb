{
 "cells": [
  {
   "cell_type": "code",
   "execution_count": 1,
   "id": "f2d08c62-8a8e-45dc-941f-514cf037929f",
   "metadata": {},
   "outputs": [],
   "source": [
    "import numpy as np"
   ]
  },
  {
   "cell_type": "code",
   "execution_count": 2,
   "id": "0731ef5c-a9e5-4c01-a8d5-0def9013b904",
   "metadata": {},
   "outputs": [
    {
     "data": {
      "text/plain": [
       "np.False_"
      ]
     },
     "execution_count": 2,
     "metadata": {},
     "output_type": "execute_result"
    }
   ],
   "source": [
    "a = np.array([2,3,4,5])\n",
    "np.all(a > 10)"
   ]
  },
  {
   "cell_type": "code",
   "execution_count": 3,
   "id": "aeb0d726-23b3-47b8-96a1-4635e7bc681e",
   "metadata": {},
   "outputs": [
    {
     "data": {
      "text/plain": [
       "np.True_"
      ]
     },
     "execution_count": 3,
     "metadata": {},
     "output_type": "execute_result"
    }
   ],
   "source": [
    "np.any(a < 3)"
   ]
  },
  {
   "cell_type": "code",
   "execution_count": 4,
   "id": "ed59311c-f3c2-49fa-9321-07f315c53632",
   "metadata": {},
   "outputs": [
    {
     "data": {
      "text/plain": [
       "array([False,  True, False, False])"
      ]
     },
     "execution_count": 4,
     "metadata": {},
     "output_type": "execute_result"
    }
   ],
   "source": [
    "np.logical_and(a > 2, a < 4)"
   ]
  },
  {
   "cell_type": "code",
   "execution_count": 5,
   "id": "d92efcd3-e7da-475c-9d44-48aa237cc81e",
   "metadata": {},
   "outputs": [
    {
     "data": {
      "text/plain": [
       "array([ True,  True,  True,  True])"
      ]
     },
     "execution_count": 5,
     "metadata": {},
     "output_type": "execute_result"
    }
   ],
   "source": [
    "np.logical_or(a > 2, a < 4)"
   ]
  },
  {
   "cell_type": "code",
   "execution_count": 9,
   "id": "47190891-63cd-4eb4-a0a0-ff18ada2d713",
   "metadata": {},
   "outputs": [
    {
     "data": {
      "text/plain": [
       "True"
      ]
     },
     "execution_count": 9,
     "metadata": {},
     "output_type": "execute_result"
    }
   ],
   "source": [
    "b = np.allclose([1e10, 1e-7], [1.00001e10, 1.000001e-7], rtol=0.00001)\n",
    "b"
   ]
  },
  {
   "cell_type": "code",
   "execution_count": 11,
   "id": "be9e7d6d-7fd1-4e56-833b-830388847ef3",
   "metadata": {},
   "outputs": [
    {
     "data": {
      "text/plain": [
       "array([False,  True])"
      ]
     },
     "execution_count": 11,
     "metadata": {},
     "output_type": "execute_result"
    }
   ],
   "source": [
    "c = np.isclose([1e10, 1e-7], [1.001e10, 1.000001e-7], rtol=0.00001)\n",
    "c"
   ]
  },
  {
   "cell_type": "code",
   "execution_count": 12,
   "id": "8232c4d3-36b6-4457-b9da-be4f2416d785",
   "metadata": {},
   "outputs": [
    {
     "data": {
      "text/plain": [
       "False"
      ]
     },
     "execution_count": 12,
     "metadata": {},
     "output_type": "execute_result"
    }
   ],
   "source": [
    "np.array_equal(np.array([1,2,3]), np.array([1,2,4]))"
   ]
  },
  {
   "cell_type": "code",
   "execution_count": 13,
   "id": "a28c4964-948a-4dd0-a31c-936833572b90",
   "metadata": {},
   "outputs": [
    {
     "data": {
      "text/plain": [
       "array([ True,  True, False])"
      ]
     },
     "execution_count": 13,
     "metadata": {},
     "output_type": "execute_result"
    }
   ],
   "source": [
    "np.greater_equal(np.array([1,2,3]), np.array([1,2,4]))"
   ]
  },
  {
   "cell_type": "code",
   "execution_count": 15,
   "id": "ca10e1cf-fc06-4b38-a94a-9c79ad067d35",
   "metadata": {},
   "outputs": [
    {
     "data": {
      "text/plain": [
       "array([False,  True,  True])"
      ]
     },
     "execution_count": 15,
     "metadata": {},
     "output_type": "execute_result"
    }
   ],
   "source": [
    "np.less_equal(np.array([2,2,3]), np.array([1,2,4]))"
   ]
  }
 ],
 "metadata": {
  "kernelspec": {
   "display_name": "Python 3 (ipykernel)",
   "language": "python",
   "name": "python3"
  },
  "language_info": {
   "codemirror_mode": {
    "name": "ipython",
    "version": 3
   },
   "file_extension": ".py",
   "mimetype": "text/x-python",
   "name": "python",
   "nbconvert_exporter": "python",
   "pygments_lexer": "ipython3",
   "version": "3.10.16"
  }
 },
 "nbformat": 4,
 "nbformat_minor": 5
}
